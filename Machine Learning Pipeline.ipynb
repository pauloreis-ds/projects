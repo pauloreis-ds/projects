{
 "cells": [
  {
   "cell_type": "markdown",
   "metadata": {},
   "source": [
    "> **Data Preparation - Data Transformation (make it readable to the model - numbers)**\n",
    ">\n",
    "> **Feature Selection - Choose the best features (making your model simpler and efficient)**\n",
    ">\n",
    "> **Machine Learning Algorithm - Learning to Predict labels according to some features**\n",
    "\n",
    "## Agenda\n",
    "    0.0 Data Preparation/Transformation\n",
    "        0.1 Normalization\n",
    "        0.2 Rescaling\n",
    "            0.2.1. Min-Max Scaler\n",
    "            0.2.2. RobustScaler\n",
    "        0.3 Feature Encoding\n",
    "        0.4 Response Variable Transformation\n",
    "        0.5 Nature Transformation \n",
    "            (dealing with datetime)\n",
    "    1.0 Feature Selection\n",
    "        1.1 Training Test Split\n",
    "        1.2 Feature Selector\n",
    "    2.0 Machine Learning Modelling\n",
    "        2.1 Cross Validation\n",
    "    3.0 Hyperparameter Fine Tuning\n",
    "    4.0 Final Model\n",
    "        4.1 Saving Model\n",
    "    5.0 Error interpretation    \n",
    "        5.1 Business Performance\n",
    "        5.2 Error Graphs"
   ]
  },
  {
   "cell_type": "code",
   "execution_count": 1,
   "metadata": {},
   "outputs": [],
   "source": [
    "import pandas as pd\n",
    "import numpy as np\n",
    "import matplotlib.pyplot as plt\n",
    "import seaborn as sns\n",
    "\n",
    "from sklearn.preprocessing import normalize, MinMaxScaler, RobustScaler\n",
    "from sklearn.preprocessing import LabelEncoder\n",
    "\n",
    "from sklearn.model_selection import train_test_split\n",
    "from boruta import BorutaPy\n",
    "\n",
    "from sklearn.ensemble import RandomForestClassifier\n",
    "\n",
    "from sklearn.metrics import classification_report\n",
    "\n",
    "import pickle"
   ]
  },
  {
   "cell_type": "markdown",
   "metadata": {},
   "source": [
    "## Helper Functions "
   ]
  },
  {
   "cell_type": "code",
   "execution_count": 13,
   "metadata": {},
   "outputs": [],
   "source": [
    "def train_test_model(model, X_train, X_test, y_train, y_test):\n",
    "    model.fit(X_train, y_train)\n",
    "    y_pred = model.predict(X_test)\n",
    "    print(classification_report(y_test, y_pred))\n",
    "    return y_pred\n",
    "    \n",
    "def mean_percentage_error( y_values, predictions ):\n",
    "    y_values = np.array(y_values)\n",
    "    predictions = np.array(predictions)\n",
    "    return np.mean( ( y_values - predictions ) / y_values )"
   ]
  },
  {
   "cell_type": "markdown",
   "metadata": {},
   "source": [
    "## 0.0 Data Preparation"
   ]
  },
  {
   "cell_type": "code",
   "execution_count": 2,
   "metadata": {},
   "outputs": [
    {
     "data": {
      "text/html": [
       "<div>\n",
       "<style scoped>\n",
       "    .dataframe tbody tr th:only-of-type {\n",
       "        vertical-align: middle;\n",
       "    }\n",
       "\n",
       "    .dataframe tbody tr th {\n",
       "        vertical-align: top;\n",
       "    }\n",
       "\n",
       "    .dataframe thead th {\n",
       "        text-align: right;\n",
       "    }\n",
       "</style>\n",
       "<table border=\"1\" class=\"dataframe\">\n",
       "  <thead>\n",
       "    <tr style=\"text-align: right;\">\n",
       "      <th></th>\n",
       "      <th>RowNumber</th>\n",
       "      <th>CustomerId</th>\n",
       "      <th>Surname</th>\n",
       "      <th>CreditScore</th>\n",
       "      <th>Geography</th>\n",
       "      <th>Gender</th>\n",
       "      <th>Age</th>\n",
       "      <th>Tenure</th>\n",
       "      <th>Balance</th>\n",
       "      <th>NumOfProducts</th>\n",
       "      <th>HasCrCard</th>\n",
       "      <th>IsActiveMember</th>\n",
       "      <th>EstimatedSalary</th>\n",
       "      <th>Exited</th>\n",
       "    </tr>\n",
       "  </thead>\n",
       "  <tbody>\n",
       "    <tr>\n",
       "      <th>2926</th>\n",
       "      <td>2927</td>\n",
       "      <td>15744529</td>\n",
       "      <td>Chiekwugo</td>\n",
       "      <td>510</td>\n",
       "      <td>France</td>\n",
       "      <td>Male</td>\n",
       "      <td>63</td>\n",
       "      <td>8</td>\n",
       "      <td>0.0</td>\n",
       "      <td>2</td>\n",
       "      <td>1</td>\n",
       "      <td>1</td>\n",
       "      <td>115291.86</td>\n",
       "      <td>0</td>\n",
       "    </tr>\n",
       "  </tbody>\n",
       "</table>\n",
       "</div>"
      ],
      "text/plain": [
       "      RowNumber  CustomerId    Surname  CreditScore Geography Gender  Age  \\\n",
       "2926       2927    15744529  Chiekwugo          510    France   Male   63   \n",
       "\n",
       "      Tenure  Balance  NumOfProducts  HasCrCard  IsActiveMember  \\\n",
       "2926       8      0.0              2          1               1   \n",
       "\n",
       "      EstimatedSalary  Exited  \n",
       "2926        115291.86       0  "
      ]
     },
     "execution_count": 2,
     "metadata": {},
     "output_type": "execute_result"
    }
   ],
   "source": [
    "raw_data = pd.read_csv(\"churn.csv\")\n",
    "raw_data.sample()"
   ]
  },
  {
   "cell_type": "code",
   "execution_count": 3,
   "metadata": {},
   "outputs": [],
   "source": [
    "data = raw_data.copy()"
   ]
  },
  {
   "cell_type": "markdown",
   "metadata": {},
   "source": [
    "**Delete Unnecessary Features** as ID, Name, etc..."
   ]
  },
  {
   "cell_type": "code",
   "execution_count": null,
   "metadata": {},
   "outputs": [],
   "source": [
    "cols_to_drop = ['column','column']\n",
    "data.drop(columns=cols_to_drop, inplace=True)"
   ]
  },
  {
   "cell_type": "markdown",
   "metadata": {},
   "source": [
    "### 0.1 Normalization\n",
    "\n",
    "It works for gaussian distribution data.\n",
    "    \n",
    "[Tests for a Normal Distribution](https://towardsdatascience.com/6-ways-to-test-for-a-normal-distribution-which-one-to-use-9dcf47d8fa93)"
   ]
  },
  {
   "cell_type": "code",
   "execution_count": 4,
   "metadata": {},
   "outputs": [
    {
     "data": {
      "image/png": "[encoded data removed]",
      "text/plain": [
       "<Figure size 432x288 with 1 Axes>"
      ]
     },
     "metadata": {
      "needs_background": "light"
     },
     "output_type": "display_data"
    }
   ],
   "source": [
    "data['CreditScore'].hist();"
   ]
  },
  {
   "cell_type": "code",
   "execution_count": 5,
   "metadata": {},
   "outputs": [],
   "source": [
    "data['CreditScore'] = normalize(data[['CreditScore']].values, axis=0)"
   ]
  },
  {
   "cell_type": "code",
   "execution_count": 6,
   "metadata": {},
   "outputs": [
    {
     "data": {
      "image/png": "[encoded data removed]",
      "text/plain": [
       "<Figure size 432x288 with 1 Axes>"
      ]
     },
     "metadata": {
      "needs_background": "light"
     },
     "output_type": "display_data"
    }
   ],
   "source": [
    "# rescaled range\n",
    "data['CreditScore'].hist();"
   ]
  },
  {
   "cell_type": "markdown",
   "metadata": {},
   "source": [
    "### 0.2 Rescaling\n",
    "\n",
    "Use it with non gaussian distribution data. \n",
    "    \n",
    "    Use boxplot to look for outliers.\n",
    "    \n",
    "    Min-Max Scaler (if no outlier)\n",
    "    RobustScaler (deals with outlier)"
   ]
  },
  {
   "cell_type": "markdown",
   "metadata": {},
   "source": [
    "**0.2.1. Min-Max Scaler**"
   ]
  },
  {
   "cell_type": "code",
   "execution_count": 7,
   "metadata": {},
   "outputs": [
    {
     "data": {
      "image/png": "[encoded data removed]",
      "text/plain": [
       "<Figure size 1080x288 with 2 Axes>"
      ]
     },
     "metadata": {
      "needs_background": "light"
     },
     "output_type": "display_data"
    }
   ],
   "source": [
    "plt.figure(figsize=(15,4))\n",
    "plt.subplot(1,2,1)\n",
    "sns.boxplot(data['Balance']);\n",
    "plt.subplot(1,2,2)\n",
    "sns.boxplot(data['Tenure']);"
   ]
  },
  {
   "cell_type": "code",
   "execution_count": 31,
   "metadata": {},
   "outputs": [],
   "source": [
    "min_max_scaler = MinMaxScaler()\n",
    "data['column_name'] = min_max_scaler.fit_transform(data[['column_name']].values)"
   ]
  },
  {
   "cell_type": "markdown",
   "metadata": {},
   "source": [
    "**0.2.2. RobustScaler**"
   ]
  },
  {
   "cell_type": "code",
   "execution_count": 132,
   "metadata": {},
   "outputs": [
    {
     "data": {
      "image/png": "[encoded data removed]",
      "text/plain": [
       "<Figure size 432x288 with 1 Axes>"
      ]
     },
     "metadata": {
      "needs_background": "light"
     },
     "output_type": "display_data"
    }
   ],
   "source": [
    "sns.boxplot(data['column_name']);"
   ]
  },
  {
   "cell_type": "code",
   "execution_count": 25,
   "metadata": {},
   "outputs": [],
   "source": [
    "robust_scaler = RobustScaler()\n",
    "data['column_name'] = robust_scaler.fit_transform(data[['column_name']].values)"
   ]
  },
  {
   "cell_type": "markdown",
   "metadata": {},
   "source": [
    "### 0.3 Feature Encoding\n",
    "\n",
    "[all about categorical variable encoding](https://towardsdatascience.com/all-about-categorical-variable-encoding-305f3361fd02)\n",
    "\n",
    "\n",
    "1) One Hot Encoding <br>\n",
    "2) Label Encoding <br>\n",
    "3) Ordinal Encoding <br>\n",
    "4) Helmert Encoding <br>\n",
    "5) Binary Encoding <br>\n",
    "6) Frequency Encoding <br>\n",
    "7) Mean Encoding <br>\n",
    "8) Weight of Evidence Encoding <br>\n",
    "9) Probability Ratio Encoding <br>\n",
    "10) Hashing Encoding <br>\n",
    "11) Backward Difference Encoding <br>\n",
    "12) Leave One Out Encoding <br>\n",
    "13) James-Stein Encoding <br>\n",
    "14) M-estimator Encoding <br>"
   ]
  },
  {
   "cell_type": "code",
   "execution_count": null,
   "metadata": {},
   "outputs": [],
   "source": [
    "# Explicit Encoding\n",
    "codes = {'attribute_1':0, 'attribute_2':1, 'attribute_3':2}\n",
    "data['column_name'] = data['column_name'].map( codes )\n",
    "\n",
    "# One Hot Encoding\n",
    "data = pd.get_dummies( data, prefix=['column_name'], columns=['column_name'] )\n",
    "\n",
    "# One of the 14+ ways to encode a feature (study to know the right situation to use them)\n",
    "label_encoder = LabelEncoder()\n",
    "data['column_name'] = label_encoder.fit_transform( data['column_name'] )"
   ]
  },
  {
   "cell_type": "markdown",
   "metadata": {},
   "source": [
    "### 0.4 Response Variable Transformation\n",
    "\n",
    "    If needed (regression problems)"
   ]
  },
  {
   "cell_type": "code",
   "execution_count": null,
   "metadata": {},
   "outputs": [],
   "source": [
    "data['continuos_variable'] = np.log1p( data['continuos_variable'] )"
   ]
  },
  {
   "cell_type": "code",
   "execution_count": null,
   "metadata": {},
   "outputs": [],
   "source": [
    "# Use    np.expm1( data['continuos_variable'] )    to bring it back later"
   ]
  },
  {
   "cell_type": "markdown",
   "metadata": {},
   "source": [
    "### 0.5 Nature Transformation\n",
    "\n",
    "    It's good to deal with cyclical data, such as time... 24 hours, 7 days, 12 months...\n",
    "        (note that year is not cyclical, it only grows more and more)"
   ]
  },
  {
   "cell_type": "code",
   "execution_count": null,
   "metadata": {},
   "outputs": [],
   "source": [
    "# day of week\n",
    "data['day_of_week_sin'] = data['day_of_week'].apply( lambda x: np.sin( x * ( 2. * np.pi/7 ) ) )\n",
    "data['day_of_week_cos'] = data['day_of_week'].apply( lambda x: np.cos( x * ( 2. * np.pi/7 ) ) )\n",
    "\n",
    "# month\n",
    "data['month_sin'] = data['month'].apply( lambda x: np.sin( x * ( 2. * np.pi/12 ) ) )\n",
    "data['month_cos'] = data['month'].apply( lambda x: np.cos( x * ( 2. * np.pi/12 ) ) )\n",
    "\n",
    "# day \n",
    "data['day_sin'] = data['day'].apply( lambda x: np.sin( x * ( 2. * np.pi/30 ) ) )\n",
    "data['day_cos'] = data['day'].apply( lambda x: np.cos( x * ( 2. * np.pi/30 ) ) )\n",
    "\n",
    "# week of year\n",
    "data['week_of_year_sin'] = data['week_of_year'].apply( lambda x: np.sin( x * ( 2. * np.pi/52 ) ) )\n",
    "data['week_of_year_cos'] = data['week_of_year'].apply( lambda x: np.cos( x * ( 2. * np.pi/52 ) ) )"
   ]
  },
  {
   "cell_type": "markdown",
   "metadata": {},
   "source": [
    "## 1.0 Feature Selection\n",
    "\n",
    "> Search for: **_Filter Methods - Embedded Methods - Wrapper Methods_**\n",
    "\n",
    "> Algorithms with **_feature_importances__** or **_coef__**: <br>\n",
    "> **_Random Forest, Lasso Regression, Ridge Regression_** \n",
    "\n",
    "> **_Boruta, SHAP_**\n"
   ]
  },
  {
   "cell_type": "code",
   "execution_count": 7,
   "metadata": {},
   "outputs": [],
   "source": [
    "data_frame = data.copy()"
   ]
  },
  {
   "cell_type": "markdown",
   "metadata": {},
   "source": [
    "### 1.1Training Test Split\n",
    "\n",
    "ps: for time series the approach is different (look for it if you're working with time series)."
   ]
  },
  {
   "cell_type": "code",
   "execution_count": null,
   "metadata": {},
   "outputs": [],
   "source": [
    "X = df.drop(columns=['response_variable_y_label'])\n",
    "y = df['response_variable_y_label']\n",
    "\n",
    "X_train, X_test, y_train, y_test = train_test_split(X, y, test_size=0.3, random_state=42)"
   ]
  },
  {
   "cell_type": "markdown",
   "metadata": {},
   "source": [
    "### 1.2 Feature Selector (Boruta)\n",
    "\n",
    "[Boruta](https://github.com/scikit-learn-contrib/boruta_py)"
   ]
  },
  {
   "cell_type": "code",
   "execution_count": null,
   "metadata": {},
   "outputs": [],
   "source": [
    "model = RandomForestClassifier(n_jobs=-1)\n",
    "\n",
    "X_train_n, y_train_n = X_train.to_numpy(), y_train.to_numpy()"
   ]
  },
  {
   "cell_type": "code",
   "execution_count": null,
   "metadata": {},
   "outputs": [],
   "source": [
    "boruta = BorutaPy(  model, n_estimators='auto', verbose=2, random_state=42 ).fit( X_train_n, y_train_n )"
   ]
  },
  {
   "cell_type": "code",
   "execution_count": null,
   "metadata": {},
   "outputs": [],
   "source": [
    "columns_selected = boruta.support_#.tolist()\n",
    "\n",
    "cols_selected_boruta = X_train.iloc[:, columns_selected].columns.to_list()\n",
    "cols_selected_boruta"
   ]
  },
  {
   "cell_type": "code",
   "execution_count": null,
   "metadata": {},
   "outputs": [],
   "source": [
    "cols_not_selected_boruta = list( np.setdiff1d( X_train.columns, cols_selected_boruta ) )\n",
    "cols_not_selected_boruta"
   ]
  },
  {
   "cell_type": "markdown",
   "metadata": {},
   "source": [
    "**The final choice is yours, as [CRISP-DM](https://en.wikipedia.org/wiki/Cross-industry_standard_process_for_data_mining) is a cyclical process you can try Boruta's selection first and change it later.**"
   ]
  },
  {
   "cell_type": "markdown",
   "metadata": {},
   "source": [
    "## 2.0 Machine Learning Modelling"
   ]
  },
  {
   "cell_type": "code",
   "execution_count": null,
   "metadata": {},
   "outputs": [],
   "source": [
    "boruta_X_train = X_train[cols_selected_boruta]\n",
    "boruta_X_test = X_test[cols_selected_boruta]"
   ]
  },
  {
   "cell_type": "code",
   "execution_count": null,
   "metadata": {},
   "outputs": [],
   "source": [
    "predictions = train_test_model(model, boruta_X_train, boruta_X_test, y_train, y_test)"
   ]
  },
  {
   "cell_type": "markdown",
   "metadata": {},
   "source": [
    "**Without Boruta' Selection - All Features (Compare It)**"
   ]
  },
  {
   "cell_type": "code",
   "execution_count": null,
   "metadata": {},
   "outputs": [],
   "source": [
    "predictions = train_test_model(model, X_train, X_test, y_train, y_test)"
   ]
  },
  {
   "cell_type": "markdown",
   "metadata": {},
   "source": [
    "### 2.1 Cross Validation\n",
    "\n",
    "[cross_validation](https://scikit-learn.org/stable/modules/cross_validation.html) <br>\n",
    "[scoring](https://scikit-learn.org/stable/modules/model_evaluation.html#scoring-parameter)\n",
    "\n",
    "[Time Series Cross Validation](https://medium.com/@soumyachess1496/cross-validation-in-time-series-566ae4981ce4) works differently <br>\n",
    "[otexts.com](https://otexts.com/fpp3/tscv.html)"
   ]
  },
  {
   "cell_type": "code",
   "execution_count": null,
   "metadata": {},
   "outputs": [],
   "source": [
    "cross_val_score(random_forest_model, X, y, cv=5, scoring='f1_macro')"
   ]
  },
  {
   "cell_type": "markdown",
   "metadata": {},
   "source": [
    "## 3.0 Hyperparameter Fine Tuning\n",
    "\n",
    "**[Random Search](https://scikit-learn.org/stable/modules/generated/sklearn.model_selection.RandomizedSearchCV.html)** Fast, but _random_ (it might repeat a parameter set of parameters in an iteration, wasting time. And it might not find the real best parameters).\n",
    "\n",
    "**[Grid Search](https://scikit-learn.org/stable/modules/generated/sklearn.model_selection.GridSearchCV.html?highlight=grid%20search#sklearn.model_selection.GridSearchCV)** Slow, but efficient (it tries every possible combination).\n",
    "\n",
    "**[Bayesian Search](https://towardsdatascience.com/automated-machine-learning-hyperparameter-tuning-in-python-dfda59b72f8a)** ([hyperopt](http://hyperopt.github.io/hyperopt/), [SMAC](https://automl.github.io/SMAC3/master/))"
   ]
  },
  {
   "cell_type": "code",
   "execution_count": null,
   "metadata": {},
   "outputs": [],
   "source": []
  },
  {
   "cell_type": "markdown",
   "metadata": {},
   "source": [
    "## 4.0 Final Model\n",
    "\n",
    "According to the best parameters."
   ]
  },
  {
   "cell_type": "code",
   "execution_count": null,
   "metadata": {},
   "outputs": [],
   "source": [
    "parameters = {\n",
    "    'parameter_1':value_1,\n",
    "    'parameter_2':value_2,\n",
    "    'parameter_3':value_3,\n",
    "}\n",
    "model = RandomForest(parameters)"
   ]
  },
  {
   "cell_type": "code",
   "execution_count": null,
   "metadata": {},
   "outputs": [],
   "source": [
    "predictions = train_test_model(model, boruta_X_train, boruta_X_test, y_train, y_test):"
   ]
  },
  {
   "cell_type": "markdown",
   "metadata": {},
   "source": [
    "### 4.1 Saving Model"
   ]
  },
  {
   "cell_type": "code",
   "execution_count": null,
   "metadata": {},
   "outputs": [],
   "source": [
    "with open('model_name.pkl','wb') as file:\n",
    "    pickle.dump(model, file)"
   ]
  },
  {
   "cell_type": "markdown",
   "metadata": {},
   "source": [
    "## 5.0 Error interpretation \n",
    "\n",
    "> observation: for [classification problems](https://scikit-learn.org/stable/modules/model_evaluation.html) the mindset is similar, but of course, the evaluation method is different.\n",
    "\n",
    "### For Regression Problems\n",
    "\n",
    "> **MAE** and **MAPE - _Good for business report_.**\n",
    ">\n",
    "> **RMSE - _Good for trying to improve model's performance_.**\n",
    "\n",
    "\n",
    "**MAE - [Mean Absolute Error](https://scikit-learn.org/stable/modules/generated/sklearn.metrics.mean_absolute_error.html)**\n",
    "\n",
    "- It assigns equal weights for all errors.\n",
    "- It's robust against outliers.\n",
    "- **_Easy understanding for business team._**\n",
    "\n",
    "**MAPE - [Mean Absolute Percentage Error](https://scikit-learn.org/stable/modules/generated/sklearn.metrics.mean_absolute_percentage_error.html)**\n",
    "\n",
    "- **It is widely used in the dissemination of results.**\n",
    "- _(%) It's also good for the business team to understand._\n",
    "- The Response Variable can Not assume 0 as a value.\n",
    "    - **We can't use MAPE if We are trying to predict the value 0.**\n",
    "\n",
    "<br>\n",
    "\n",
    "        \"On average, our error is about MAE_VALUE (up or down). As the mean value of RESPONSE_VARIABLE is about\n",
    "        DF['RESPONSE_VARIABLE'].MEAN(), that's a MAE_VALUE / DF['RESPONSE_VARIABLE'].MEAN() percent error.\"\n",
    "        \n",
    "        \"On average, our predictions are MAPE_VALUE percent above or below the real value.\"\n",
    "\n",
    "<br>    \n",
    "\n",
    "**MSE - [Mean Squared Error](https://scikit-learn.org/stable/modules/generated/sklearn.metrics.mean_squared_error.html)**<br>\n",
    "**RMSE - [Root Mean Squared Error](https://stackoverflow.com/questions/17197492/is-there-a-library-function-for-root-mean-square-error-rmse-in-python)**\n",
    "\n",
    "- It assigns greater weight to larger errors (outliers are more visible/detectable).\n",
    "    - **In order to improve the model performance we can take in consideration the RMSE, since outliers are a big problem and<br>\n",
    "    RMSE detects them.**\n",
    "    \n",
    "    \n",
    "**MPE - Mean Percentage Error**\n",
    "\n",
    "- It's not used to evaluate model's performance.\n",
    "- It's used to know if the model is overestimating or underestimating.\n",
    "    - _For example, in a sales prediction problem if the model overestimates, the company will have more products on store than necessary. <br>\n",
    "    On the other hand, underestimating means that the company will not have bought enough products to sell (it's going to lose money <br>\n",
    "    from sales that will not happen, but could have happened). Depending on business situation,  you might prefer one above the other._\n",
    "- **You can use it belatedly with the final model.** As well as NP.MEAN(PREDICTIONS) \n"
   ]
  },
  {
   "cell_type": "markdown",
   "metadata": {},
   "source": [
    "### 5.1 Business Performance \n",
    "\n",
    "- **Based on the chosen metric, how much revenue does the model return?**\n",
    "    - _If there is some kind of category (stores, cities, regions...) you can also calculate this for each one of them._\n",
    "    \n",
    "    \n",
    "        Store            Category (Brazil's store, USA's store...)\n",
    "        \n",
    "        Prediction       Estimated Sales Revenue\n",
    "        Worst Scenario   Estimated Sales Revenue - MAE\n",
    "        Best Scenario    Estimated Sales Revenue + MAE\n",
    "        \n",
    "        MAE              \"On average, our error is about MAE_VALUE (up or down)\"\n",
    "        MAPE             \"On average, our predictions are MAPE_VALUE percent above or below the real value.\"\n",
    "        \n",
    "_If MAPE is low, you can expect the model to be right and presuppose the Best Scenario to happen. Otherwise, go with the worst one. That decision also depends on MPE (if it's too positive, yeah! Best scenario)._"
   ]
  },
  {
   "cell_type": "code",
   "execution_count": null,
   "metadata": {},
   "outputs": [],
   "source": [
    "['store'] ['prediction'] ['worst_scenario'] ['best_scenario'] ['MAE'] ['MAPE']"
   ]
  },
  {
   "cell_type": "markdown",
   "metadata": {},
   "source": [
    "### 5.2 Error Graphs \n",
    "\n",
    "**Imagine a sales forecast project.**"
   ]
  },
  {
   "cell_type": "code",
   "execution_count": null,
   "metadata": {},
   "outputs": [],
   "source": [
    "data['error'] = data['sales'] - data['predictions']\n",
    "data['percentage_error'] = data['predictions'] / data['sales'] "
   ]
  },
  {
   "cell_type": "markdown",
   "metadata": {},
   "source": [
    "**data['percentage_error'] equals 1 means the model nailed it. Greater than 1 means the model has overestimated, else, it has underestimated.**"
   ]
  },
  {
   "cell_type": "code",
   "execution_count": null,
   "metadata": {},
   "outputs": [],
   "source": [
    "plt.subplot( 2, 2, 1 )\n",
    "sns.lineplot( x='date', y='sales', data=data, label='SALES' )\n",
    "sns.lineplot( x='date', y='predictions', data=data, label='PREDICTIONS' )\n",
    "\n",
    "plt.subplot( 2, 2, 2 )\n",
    "sns.lineplot( x='date', y='percentage_error', data=data )\n",
    "plt.axhline( 1, linestyle='--')\n",
    "\n",
    "plt.subplot( 2, 2, 3 )\n",
    "sns.distplot( data['error'] )\n",
    "\n",
    "plt.subplot( 2, 2, 4 )\n",
    "sns.scatterplot( data['predictions'], data['error'] )"
   ]
  },
  {
   "cell_type": "markdown",
   "metadata": {},
   "source": [
    "### The output should be something like this:\n",
    "\n",
    "The last two graphs are related to Residuals Analysis. Search about it."
   ]
  },
  {
   "cell_type": "code",
   "execution_count": 3,
   "metadata": {},
   "outputs": [
    {
     "data": {
      "image/jpeg": "[encoded data removed]",
      "text/plain": [
       "<IPython.core.display.Image object>"
      ]
     },
     "execution_count": 3,
     "metadata": {},
     "output_type": "execute_result"
    }
   ],
   "source": [
    "from IPython.display import Image\n",
    "Image(\"error_evaluation.JPG\")"
   ]
  },
  {
   "cell_type": "markdown",
   "metadata": {},
   "source": [
    "**The model is finally ready to be deployed (or if it's not), since [CRISP-DM](https://en.wikipedia.org/wiki/Cross-industry_standard_process_for_data_mining#) is a cyclical process you can do it all over again, making some major changes trying to get better results.**"
   ]
  }
 ],
 "metadata": {
  "kernelspec": {
   "display_name": "Python 3",
   "language": "python",
   "name": "python3"
  },
  "language_info": {
   "codemirror_mode": {
    "name": "ipython",
    "version": 3
   },
   "file_extension": ".py",
   "mimetype": "text/x-python",
   "name": "python",
   "nbconvert_exporter": "python",
   "pygments_lexer": "ipython3",
   "version": "3.7.7"
  }
 },
 "nbformat": 4,
 "nbformat_minor": 4
}
