{
 "cells": [
  {
   "cell_type": "markdown",
   "metadata": {},
   "source": [
    "> **Motivation! What's the context?**\n",
    ">\n",
    "> **What outcome is the company trying to achieve?**\n",
    ">\n",
    "> **Problem - What pain we want to minimize?**\n",
    ">\n",
    "> ---\n",
    ">\n",
    "> **Why?**\n",
    ">\n",
    "> **Potential. What is the potential to solve it?**\n",
    ">\n",
    "> ---\n",
    ">\n",
    "> **What can the company do to achieve it?**\n",
    ">\n",
    "> _\"If I prove this right tomorrow how will you apply it in your business?\"_\n",
    ">\n",
    "> **Who are the stakeholders?**\n",
    ">\n",
    "> ---\n",
    ">\n",
    "> **What is the deliverable?**"
   ]
  },
  {
   "cell_type": "markdown",
   "metadata": {},
   "source": [
    "# Análise da Proposta do Projeto"
   ]
  },
  {
   "cell_type": "markdown",
   "metadata": {},
   "source": [
    "<p style=\"text-align: justify\"><i>\"O pensamento analítico de dados eficaz permitirá a você avaliar potenciais projetos de mineração de dados de forma sistemática. O material deste livro fornecerá a base necessária para avaliar projetos de mineração de dados propostos e para descobrir potenciais falhas nas propostas. Essa habilidade pode ser aplicada como uma autoavaliação para suas próprias propostas e como ajuda na avaliação de propostas de equipes internas de data science ou consultores externos.\" Data Science Para Negócios</i></p>"
   ]
  },
  {
   "cell_type": "markdown",
   "metadata": {},
   "source": [
    "## Project basis\n",
    "\n",
    "- What outcome is the company trying to achieve?\n",
    "\n",
    "\n",
    "- What can the company do to achieve it?\n",
    "\n",
    "\n",
    "- What data can we collect to help us?\n",
    "\n",
    "\n",
    "- Can a machine learning model help us?\n"
   ]
  },
  {
   "cell_type": "markdown",
   "metadata": {},
   "source": [
    "_What is relevant to you? \"If I prove this right tomorrow how will you apply it in your business?\"_"
   ]
  },
  {
   "cell_type": "markdown",
   "metadata": {},
   "source": [
    "# Entendendo o Problema de Negócio\n",
    "\n",
    "- Motivação. Qual o contexto?\n",
    "- Qual fenômeno estou modelando?\n",
    "        \n",
    "        Qual o método de avaliação?\n",
    "        Como identificar o sucesso?\n",
    "\n",
    "\n",
    "- Qual a causa raíz do problema?\n",
    "- Por que aplicar essa solução?\n",
    "\n",
    "\n",
    "- Quem é o stakeholder, o dono do problema? O maior interessado na solução?\n",
    "\n",
    "\n",
    "- Qual o formato da solução? Qual o entregável? E a granularidade?"
   ]
  },
  {
   "cell_type": "markdown",
   "metadata": {},
   "source": [
    "# Os 4 Ps de Data\n",
    "\n",
    "## Problema\n",
    "\n",
    "- Qual a dor que busca ser resolvida?\n",
    "- Quem ela impacta? Quando ela acontece? Qual o contexto de negócio envolvido?\n",
    "\n",
    "\n",
    "## Potencial\n",
    "\n",
    "- Qual o potencial de resolvê-lo? \n",
    "        Não é só porque um problema foi entendido que ele precisa ser resolvido agora.\n",
    "        Priorização por impacto.\n",
    "        \n",
    "## Produto\n",
    "\n",
    "- Qual o melhor entregável?\n",
    "\n",
    "## Proposta\n",
    "\n",
    "- Qual a proposta de ação a ser tomada a partir deste projeto?\n"
   ]
  },
  {
   "cell_type": "markdown",
   "metadata": {},
   "source": [
    "# Negócios e Compreensão dos Dados\n",
    "_Data Science Para Negócios_\n",
    "\n",
    "- Qual é exatamente o problema a ser resolvido?\n",
    "- A solução de data science foi adequadamente formulada para resolver\n",
    "este problema de negócio?\n",
    "        NB: às vezes temos que fazer aproximações criteriosas.\n",
    "- A qual entidade de negócios o exemplo corresponde?\n",
    "- O problema é supervisionado ou não supervisionado?\n",
    "        Caso supervisionado, tem uma variável alvo definida?\n",
    "        Caso positivo, é definida com precisão?\n",
    "        Pense sobre os valores que pode adotar.\n",
    "-Os atributos são definidos com precisão?\n",
    "        Pense sobre os valores que pode adotar.\n",
    "- Para problemas supervisionados: \n",
    "        Modelar esta variável alvo melhorará o problema de negócios? Um subproblema importante? \n",
    "        No último caso, o restante do problema de negócios foi abordado?\n",
    "- Dispor o problema em termos de valor esperado ajuda a estruturar as\n",
    "subtarefas que precisam ser resolvidas?\n",
    "- Caso não supervisionado, existe um caminho de “análise exploratória de\n",
    "dados” bem definido? (Ou seja, onde está indo a análise?)"
   ]
  }
 ],
 "metadata": {
  "kernelspec": {
   "display_name": "Python 3",
   "language": "python",
   "name": "python3"
  },
  "language_info": {
   "codemirror_mode": {
    "name": "ipython",
    "version": 3
   },
   "file_extension": ".py",
   "mimetype": "text/x-python",
   "name": "python",
   "nbconvert_exporter": "python",
   "pygments_lexer": "ipython3",
   "version": "3.8.5"
  }
 },
 "nbformat": 4,
 "nbformat_minor": 4
}
