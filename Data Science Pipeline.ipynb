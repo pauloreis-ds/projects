{
 "cells": [
  {
   "cell_type": "markdown",
   "metadata": {},
   "source": [
    "_You can use this as a guide. I tried to make it general, but as each project has its own peculiarity you'll have to deal with that and adapt. Change the code, make it yours._\n",
    "\n",
    "> **1.0 - Describe Data - Data cleaning.**\n",
    ">\n",
    "> **2.0 - Create Hypothesis to validate with data (future insights).**\n",
    ">\n",
    "> **3.0 - Feature Engineering - \"Data Exploration\" (Feature Extraction/ Construction/ Selection... Feature Learning).**\n",
    ">\n",
    "> **4.0 - EDA (Exploratory Data Analysis) - Finding out Insights/ Answers to business questions.**\n",
    ">\n",
    "> **5.0 - Machine Learning (if needed)**\n",
    "\n",
    "## Agenda\n",
    "\n",
    "    1.0 Describe Data\n",
    "        1.1 Rename Columns\n",
    "        1.2 Dealing with Missing Values\n",
    "        1.3 Remap values\n",
    "        1.4 Change Data Types\n",
    "        1.5 Duplicates\n",
    "        1.6 Descriptive Statistical\n",
    "            1.6.1. Numerical Attributes\n",
    "            1.6.2. Categorical Attributes\n",
    "    2.0 Hypothesis Creation\n",
    "        2.1 Hypothesis\n",
    "    3.0 Feature Engineering\n",
    "        3.0.1. new_column_name_1\n",
    "        3.0.2. new_column_name_2\n",
    "    4.0 Filtering The Features\n",
    "        4.1 Column Selection\n",
    "        4.2 Row Selection\n",
    "    5.0 Exploratory Data Analysis\n",
    "        5.1 Univariate Analysis\n",
    "            5.1.1. Response Variable\n",
    "            5.1.2. Numerical Variables\n",
    "            5.1.3. Categorical Variables\n",
    "        5.2 Bivariate Analysis\n",
    "        5.3 Multivariate Analysis\n",
    "            5.3.1. Numerical Attributes\n",
    "            5.3.2. Categorical Attributes"
   ]
  },
  {
   "cell_type": "markdown",
   "metadata": {},
   "source": [
    "### 0.0 Imports"
   ]
  },
  {
   "cell_type": "code",
   "execution_count": 45,
   "metadata": {},
   "outputs": [],
   "source": [
    "import pandas as pd\n",
    "import inflection\n",
    "import missingno as msno\n",
    "import matplotlib.pyplot as plt\n",
    "import seaborn as sns\n",
    "import numpy as np\n",
    "\n",
    "# util\n",
    "from IPython.display import Image\n",
    "from scipy import stats"
   ]
  },
  {
   "cell_type": "markdown",
   "metadata": {},
   "source": [
    "### 0.1 Helper Functions"
   ]
  },
  {
   "cell_type": "code",
   "execution_count": 3,
   "metadata": {},
   "outputs": [],
   "source": [
    "def describe_data(data):\n",
    "    print(f\"Shape: {data.shape}\")\n",
    "    print(f\"Duplicates: {data.duplicated().any()}\")\n",
    "    \n",
    "    is_na = data.isna().sum()\n",
    "    is_na_percentage = data.isna().sum()/data.shape[0]*100\n",
    "    nan_data_frame = pd.concat([data.dtypes, is_na, is_na_percentage], axis=1)\n",
    "    nan_data_frame.columns = ['data_types', 'nan_count', 'nan_percentage']\n",
    "    #display(nan_data_frame)\n",
    "    return nan_data_frame\n",
    "\n",
    "\n",
    "# 1.2 Dealing with Missing Values\n",
    "def missing_plot(data, nan_cols, no_nan_col, x=15, y=5, first_graph=True, second_graph=True):\n",
    "    nan_cols.insert(0, no_nan_col)\n",
    "    try:\n",
    "        if first_graph:\n",
    "            msno.matrix(data[nan_cols], figsize=(x, y))\n",
    "            plt.show()\n",
    "        if second_graph:\n",
    "            msno.bar(data[nan_cols], figsize=(x, y))\n",
    "            plt.show()\n",
    "    except Exception as e:\n",
    "        print(e)\n",
    "    \n",
    "    \n",
    "# 5.1.3. Categorical Variables    \n",
    "def get_categories(data):\n",
    "    df = pd.DataFrame()\n",
    "    for column in data.columns:\n",
    "        col = pd.Series(data[column].unique(), name=column)\n",
    "        df = pd.concat([df, col], axis=1).fillna('')\n",
    "    return df\n",
    "\n",
    "\n",
    "# 5.3 Multivariate Analysis \n",
    "#  5.3.2. Categorical Attributes\n",
    "def cramer_v( x, y ):\n",
    "    confusion_matrix = pd.crosstab( x, y ).to_numpy() \n",
    "    n = confusion_matrix.sum()\n",
    "    r, k = confusion_matrix.shape\n",
    "    \n",
    "    chi2 = stats.chi2_contingency( confusion_matrix )[0]\n",
    "    chi2corr = max( 0, chi2 - (k-1)*(r-1)/(n-1) )\n",
    "    \n",
    "    kcorr = k - (k-1)**2/(n-1)\n",
    "    rcorr = r - (r-1)**2/(n-1)\n",
    "    \n",
    "    return np.sqrt( (chi2corr/n) / ( min( kcorr-1, rcorr-1 ) ) )\n",
    "\n",
    "\n",
    "def get_categorical_corr(categorical_data):\n",
    "    categorical_correlation_matrix = {}\n",
    "\n",
    "    for column in categorical_data.columns:\n",
    "        correlation_values = []\n",
    "        for col in categorical_data.columns:\n",
    "            correlation_values.append(cramer_v(categorical_attributes[column], categorical_attributes[col]))\n",
    "\n",
    "        categorical_correlation_matrix[column] = correlation_values\n",
    "    \n",
    "    categorical_corr = pd.DataFrame(categorical_correlation_matrix)\n",
    "    categorical_corr = categorical_corr.set_index( categorical_corr.columns )\n",
    "    return categorical_corr "
   ]
  },
  {
   "cell_type": "markdown",
   "metadata": {},
   "source": [
    "### 0.2 Loading Data"
   ]
  },
  {
   "cell_type": "code",
   "execution_count": 4,
   "metadata": {},
   "outputs": [
    {
     "data": {
      "text/html": [
       "<div>\n",
       "<style scoped>\n",
       "    .dataframe tbody tr th:only-of-type {\n",
       "        vertical-align: middle;\n",
       "    }\n",
       "\n",
       "    .dataframe tbody tr th {\n",
       "        vertical-align: top;\n",
       "    }\n",
       "\n",
       "    .dataframe thead th {\n",
       "        text-align: right;\n",
       "    }\n",
       "</style>\n",
       "<table border=\"1\" class=\"dataframe\">\n",
       "  <thead>\n",
       "    <tr style=\"text-align: right;\">\n",
       "      <th></th>\n",
       "      <th>RowNumber</th>\n",
       "      <th>CustomerId</th>\n",
       "      <th>Surname</th>\n",
       "      <th>CreditScore</th>\n",
       "      <th>Geography</th>\n",
       "      <th>Gender</th>\n",
       "      <th>Age</th>\n",
       "      <th>Tenure</th>\n",
       "      <th>Balance</th>\n",
       "      <th>NumOfProducts</th>\n",
       "      <th>HasCrCard</th>\n",
       "      <th>IsActiveMember</th>\n",
       "      <th>EstimatedSalary</th>\n",
       "      <th>Exited</th>\n",
       "    </tr>\n",
       "  </thead>\n",
       "  <tbody>\n",
       "    <tr>\n",
       "      <th>0</th>\n",
       "      <td>1</td>\n",
       "      <td>15634602</td>\n",
       "      <td>Hargrave</td>\n",
       "      <td>619</td>\n",
       "      <td>France</td>\n",
       "      <td>Female</td>\n",
       "      <td>42</td>\n",
       "      <td>2</td>\n",
       "      <td>0.00</td>\n",
       "      <td>1</td>\n",
       "      <td>1</td>\n",
       "      <td>1</td>\n",
       "      <td>101348.88</td>\n",
       "      <td>1</td>\n",
       "    </tr>\n",
       "    <tr>\n",
       "      <th>1</th>\n",
       "      <td>2</td>\n",
       "      <td>15647311</td>\n",
       "      <td>Hill</td>\n",
       "      <td>608</td>\n",
       "      <td>Spain</td>\n",
       "      <td>Female</td>\n",
       "      <td>41</td>\n",
       "      <td>1</td>\n",
       "      <td>83807.86</td>\n",
       "      <td>1</td>\n",
       "      <td>0</td>\n",
       "      <td>1</td>\n",
       "      <td>112542.58</td>\n",
       "      <td>0</td>\n",
       "    </tr>\n",
       "    <tr>\n",
       "      <th>2</th>\n",
       "      <td>3</td>\n",
       "      <td>15619304</td>\n",
       "      <td>Onio</td>\n",
       "      <td>502</td>\n",
       "      <td>France</td>\n",
       "      <td>Female</td>\n",
       "      <td>42</td>\n",
       "      <td>8</td>\n",
       "      <td>159660.80</td>\n",
       "      <td>3</td>\n",
       "      <td>1</td>\n",
       "      <td>0</td>\n",
       "      <td>113931.57</td>\n",
       "      <td>1</td>\n",
       "    </tr>\n",
       "  </tbody>\n",
       "</table>\n",
       "</div>"
      ],
      "text/plain": [
       "   RowNumber  CustomerId   Surname  CreditScore Geography  Gender  Age  \\\n",
       "0          1    15634602  Hargrave          619    France  Female   42   \n",
       "1          2    15647311      Hill          608     Spain  Female   41   \n",
       "2          3    15619304      Onio          502    France  Female   42   \n",
       "\n",
       "   Tenure    Balance  NumOfProducts  HasCrCard  IsActiveMember  \\\n",
       "0       2       0.00              1          1               1   \n",
       "1       1   83807.86              1          0               1   \n",
       "2       8  159660.80              3          1               0   \n",
       "\n",
       "   EstimatedSalary  Exited  \n",
       "0        101348.88       1  \n",
       "1        112542.58       0  \n",
       "2        113931.57       1  "
      ]
     },
     "execution_count": 4,
     "metadata": {},
     "output_type": "execute_result"
    }
   ],
   "source": [
    "raw_data = pd.read_csv(\"data/churn.csv\")#.drop(columns=\"ID\")\n",
    "raw_data.head(3)"
   ]
  },
  {
   "cell_type": "markdown",
   "metadata": {},
   "source": [
    "## 1.0 Describe Data"
   ]
  },
  {
   "cell_type": "code",
   "execution_count": 5,
   "metadata": {},
   "outputs": [],
   "source": [
    "data = raw_data.copy()"
   ]
  },
  {
   "cell_type": "markdown",
   "metadata": {},
   "source": [
    "### 1.1 Rename Columns\n",
    "[inflection docs](https://inflection.readthedocs.io/en/latest/) &emsp; [lambda](https://www.w3schools.com/python/python_lambda.asp) &emsp; [map](https://www.geeksforgeeks.org/python-map-function/)"
   ]
  },
  {
   "cell_type": "code",
   "execution_count": 6,
   "metadata": {},
   "outputs": [
    {
     "data": {
      "text/plain": [
       "Index(['RowNumber', 'CustomerId', 'Surname', 'CreditScore', 'Geography',\n",
       "       'Gender', 'Age', 'Tenure', 'Balance', 'NumOfProducts', 'HasCrCard',\n",
       "       'IsActiveMember', 'EstimatedSalary', 'Exited'],\n",
       "      dtype='object')"
      ]
     },
     "execution_count": 6,
     "metadata": {},
     "output_type": "execute_result"
    }
   ],
   "source": [
    "data.columns"
   ]
  },
  {
   "cell_type": "code",
   "execution_count": 7,
   "metadata": {},
   "outputs": [
    {
     "data": {
      "text/plain": [
       "Index(['row_number', 'customer_id', 'surname', 'credit_score', 'geography',\n",
       "       'gender', 'age', 'tenure', 'balance', 'num_of_products', 'has_cr_card',\n",
       "       'is_active_member', 'estimated_salary', 'exited'],\n",
       "      dtype='object')"
      ]
     },
     "execution_count": 7,
     "metadata": {},
     "output_type": "execute_result"
    }
   ],
   "source": [
    "old_columns = data.columns\n",
    "\n",
    "# transform snakecase with inflection\n",
    "snakecase = lambda x: inflection.underscore(x)\n",
    "new_columns = map(snakecase, old_columns)\n",
    "\n",
    "data.columns = new_columns\n",
    "data.columns"
   ]
  },
  {
   "cell_type": "markdown",
   "metadata": {},
   "source": [
    "> **Data Dimension. Data Types. Check NaN.**"
   ]
  },
  {
   "cell_type": "code",
   "execution_count": 8,
   "metadata": {},
   "outputs": [
    {
     "name": "stdout",
     "output_type": "stream",
     "text": [
      "Shape: (10000, 14)\n",
      "Duplicates: False\n"
     ]
    },
    {
     "data": {
      "text/html": [
       "<div>\n",
       "<style scoped>\n",
       "    .dataframe tbody tr th:only-of-type {\n",
       "        vertical-align: middle;\n",
       "    }\n",
       "\n",
       "    .dataframe tbody tr th {\n",
       "        vertical-align: top;\n",
       "    }\n",
       "\n",
       "    .dataframe thead th {\n",
       "        text-align: right;\n",
       "    }\n",
       "</style>\n",
       "<table border=\"1\" class=\"dataframe\">\n",
       "  <thead>\n",
       "    <tr style=\"text-align: right;\">\n",
       "      <th></th>\n",
       "      <th>data_types</th>\n",
       "      <th>nan_count</th>\n",
       "      <th>nan_percentage</th>\n",
       "    </tr>\n",
       "  </thead>\n",
       "  <tbody>\n",
       "    <tr>\n",
       "      <th>row_number</th>\n",
       "      <td>int64</td>\n",
       "      <td>0</td>\n",
       "      <td>0.0</td>\n",
       "    </tr>\n",
       "    <tr>\n",
       "      <th>customer_id</th>\n",
       "      <td>int64</td>\n",
       "      <td>0</td>\n",
       "      <td>0.0</td>\n",
       "    </tr>\n",
       "    <tr>\n",
       "      <th>surname</th>\n",
       "      <td>object</td>\n",
       "      <td>0</td>\n",
       "      <td>0.0</td>\n",
       "    </tr>\n",
       "    <tr>\n",
       "      <th>credit_score</th>\n",
       "      <td>int64</td>\n",
       "      <td>0</td>\n",
       "      <td>0.0</td>\n",
       "    </tr>\n",
       "    <tr>\n",
       "      <th>geography</th>\n",
       "      <td>object</td>\n",
       "      <td>0</td>\n",
       "      <td>0.0</td>\n",
       "    </tr>\n",
       "    <tr>\n",
       "      <th>gender</th>\n",
       "      <td>object</td>\n",
       "      <td>0</td>\n",
       "      <td>0.0</td>\n",
       "    </tr>\n",
       "    <tr>\n",
       "      <th>age</th>\n",
       "      <td>int64</td>\n",
       "      <td>0</td>\n",
       "      <td>0.0</td>\n",
       "    </tr>\n",
       "    <tr>\n",
       "      <th>tenure</th>\n",
       "      <td>int64</td>\n",
       "      <td>0</td>\n",
       "      <td>0.0</td>\n",
       "    </tr>\n",
       "    <tr>\n",
       "      <th>balance</th>\n",
       "      <td>float64</td>\n",
       "      <td>0</td>\n",
       "      <td>0.0</td>\n",
       "    </tr>\n",
       "    <tr>\n",
       "      <th>num_of_products</th>\n",
       "      <td>int64</td>\n",
       "      <td>0</td>\n",
       "      <td>0.0</td>\n",
       "    </tr>\n",
       "    <tr>\n",
       "      <th>has_cr_card</th>\n",
       "      <td>int64</td>\n",
       "      <td>0</td>\n",
       "      <td>0.0</td>\n",
       "    </tr>\n",
       "    <tr>\n",
       "      <th>is_active_member</th>\n",
       "      <td>int64</td>\n",
       "      <td>0</td>\n",
       "      <td>0.0</td>\n",
       "    </tr>\n",
       "    <tr>\n",
       "      <th>estimated_salary</th>\n",
       "      <td>float64</td>\n",
       "      <td>0</td>\n",
       "      <td>0.0</td>\n",
       "    </tr>\n",
       "    <tr>\n",
       "      <th>exited</th>\n",
       "      <td>int64</td>\n",
       "      <td>0</td>\n",
       "      <td>0.0</td>\n",
       "    </tr>\n",
       "  </tbody>\n",
       "</table>\n",
       "</div>"
      ],
      "text/plain": [
       "                 data_types  nan_count  nan_percentage\n",
       "row_number            int64          0             0.0\n",
       "customer_id           int64          0             0.0\n",
       "surname              object          0             0.0\n",
       "credit_score          int64          0             0.0\n",
       "geography            object          0             0.0\n",
       "gender               object          0             0.0\n",
       "age                   int64          0             0.0\n",
       "tenure                int64          0             0.0\n",
       "balance             float64          0             0.0\n",
       "num_of_products       int64          0             0.0\n",
       "has_cr_card           int64          0             0.0\n",
       "is_active_member      int64          0             0.0\n",
       "estimated_salary    float64          0             0.0\n",
       "exited                int64          0             0.0"
      ]
     },
     "execution_count": 8,
     "metadata": {},
     "output_type": "execute_result"
    }
   ],
   "source": [
    "describe_data(data)#.T"
   ]
  },
  {
   "cell_type": "markdown",
   "metadata": {},
   "source": [
    "### 1.2 Dealing with Missing Values"
   ]
  },
  {
   "cell_type": "code",
   "execution_count": null,
   "metadata": {},
   "outputs": [],
   "source": [
    "missing_plot(data, nan_cols, \"column_with_no_nan\")"
   ]
  },
  {
   "cell_type": "code",
   "execution_count": null,
   "metadata": {},
   "outputs": [],
   "source": [
    "# Drop\n",
    "data.dropna(inplace=True)\n",
    "\n",
    "# Fill (mean, median, etc...)\n",
    "data['column_name'].fillna('value_returned_by_function', inplace=True)\n",
    "\n",
    "# Fill (with some specification)\n",
    "data['column_name'] = data.apply(lambda x: 'x + value?' if \"condition\" else \"x itself or other value\")"
   ]
  },
  {
   "cell_type": "markdown",
   "metadata": {},
   "source": [
    "### 1.3 Remap values\n",
    "\n",
    "[replace](https://stackoverflow.com/questions/20250771/remap-values-in-pandas-column-with-a-dict)"
   ]
  },
  {
   "cell_type": "code",
   "execution_count": null,
   "metadata": {},
   "outputs": [],
   "source": [
    "# map\n",
    "dict_map = {1: 'example_1',  2: 'example_2',  3: 'example_3'}\n",
    "data['column_name'].map( dict_map )\n",
    "\n",
    "# replace (map is faster)\n",
    "data['column_name'].replace(\"original_value\", 'new_value')"
   ]
  },
  {
   "cell_type": "markdown",
   "metadata": {},
   "source": [
    "### 1.4 Change Data Types\n",
    "\n",
    "[Other Ways](https://stackoverflow.com/questions/15891038/change-column-type-in-pandas)"
   ]
  },
  {
   "cell_type": "code",
   "execution_count": null,
   "metadata": {},
   "outputs": [],
   "source": [
    "describe_data(data)"
   ]
  },
  {
   "cell_type": "code",
   "execution_count": null,
   "metadata": {},
   "outputs": [],
   "source": [
    "# YES, APPLY BOOLEAN WAY OF LIFE\n",
    "data['column_name'] = data['column_name'].astype('bool')"
   ]
  },
  {
   "cell_type": "code",
   "execution_count": null,
   "metadata": {},
   "outputs": [],
   "source": [
    "data['column_name'] = data['column_name'].astype( int )"
   ]
  },
  {
   "cell_type": "code",
   "execution_count": null,
   "metadata": {},
   "outputs": [],
   "source": [
    "describe_data(data)"
   ]
  },
  {
   "cell_type": "markdown",
   "metadata": {},
   "source": [
    "### 1.5 Duplicates"
   ]
  },
  {
   "cell_type": "code",
   "execution_count": null,
   "metadata": {},
   "outputs": [],
   "source": [
    "# Duplicated rows\n",
    "print(\"number of duplicates: \", data.duplicated().sum())\n",
    "duplicated_rows_df = data[data.duplicated(keep=False)]\n",
    "duplicated_rows_df.sort_values(\"year_birth\").head()"
   ]
  },
  {
   "cell_type": "code",
   "execution_count": null,
   "metadata": {},
   "outputs": [],
   "source": [
    "data.drop_duplicates(inplace=True)"
   ]
  },
  {
   "cell_type": "markdown",
   "metadata": {},
   "source": [
    "### 1.6 Descriptive Statistical"
   ]
  },
  {
   "cell_type": "code",
   "execution_count": 9,
   "metadata": {},
   "outputs": [],
   "source": [
    "numerical_attributes = data.select_dtypes( include=['int64', 'float64'] )\n",
    "categorical_attributes = data.select_dtypes( exclude=['int64', 'float64', 'datetime64[ns]'] )"
   ]
  },
  {
   "cell_type": "markdown",
   "metadata": {},
   "source": [
    "#### 1.6.1. Numerical Attributes"
   ]
  },
  {
   "cell_type": "markdown",
   "metadata": {},
   "source": [
    "        Explanation"
   ]
  },
  {
   "cell_type": "code",
   "execution_count": 10,
   "metadata": {},
   "outputs": [
    {
     "data": {
      "text/html": [
       "<div>\n",
       "<style scoped>\n",
       "    .dataframe tbody tr th:only-of-type {\n",
       "        vertical-align: middle;\n",
       "    }\n",
       "\n",
       "    .dataframe tbody tr th {\n",
       "        vertical-align: top;\n",
       "    }\n",
       "\n",
       "    .dataframe thead th {\n",
       "        text-align: right;\n",
       "    }\n",
       "</style>\n",
       "<table border=\"1\" class=\"dataframe\">\n",
       "  <thead>\n",
       "    <tr style=\"text-align: right;\">\n",
       "      <th></th>\n",
       "      <th>count</th>\n",
       "      <th>mean</th>\n",
       "      <th>std</th>\n",
       "      <th>min</th>\n",
       "      <th>25%</th>\n",
       "      <th>50%</th>\n",
       "      <th>75%</th>\n",
       "      <th>max</th>\n",
       "      <th>skew</th>\n",
       "      <th>kurtosis</th>\n",
       "    </tr>\n",
       "  </thead>\n",
       "  <tbody>\n",
       "    <tr>\n",
       "      <th>row_number</th>\n",
       "      <td>10000.0</td>\n",
       "      <td>5.000500e+03</td>\n",
       "      <td>2886.895680</td>\n",
       "      <td>1.00</td>\n",
       "      <td>2500.75</td>\n",
       "      <td>5.000500e+03</td>\n",
       "      <td>7.500250e+03</td>\n",
       "      <td>10000.00</td>\n",
       "      <td>0.000000</td>\n",
       "      <td>-1.200000</td>\n",
       "    </tr>\n",
       "    <tr>\n",
       "      <th>customer_id</th>\n",
       "      <td>10000.0</td>\n",
       "      <td>1.569094e+07</td>\n",
       "      <td>71936.186123</td>\n",
       "      <td>15565701.00</td>\n",
       "      <td>15628528.25</td>\n",
       "      <td>1.569074e+07</td>\n",
       "      <td>1.575323e+07</td>\n",
       "      <td>15815690.00</td>\n",
       "      <td>0.001149</td>\n",
       "      <td>-1.196113</td>\n",
       "    </tr>\n",
       "    <tr>\n",
       "      <th>credit_score</th>\n",
       "      <td>10000.0</td>\n",
       "      <td>6.505288e+02</td>\n",
       "      <td>96.653299</td>\n",
       "      <td>350.00</td>\n",
       "      <td>584.00</td>\n",
       "      <td>6.520000e+02</td>\n",
       "      <td>7.180000e+02</td>\n",
       "      <td>850.00</td>\n",
       "      <td>-0.071607</td>\n",
       "      <td>-0.425726</td>\n",
       "    </tr>\n",
       "    <tr>\n",
       "      <th>age</th>\n",
       "      <td>10000.0</td>\n",
       "      <td>3.892180e+01</td>\n",
       "      <td>10.487806</td>\n",
       "      <td>18.00</td>\n",
       "      <td>32.00</td>\n",
       "      <td>3.700000e+01</td>\n",
       "      <td>4.400000e+01</td>\n",
       "      <td>92.00</td>\n",
       "      <td>1.011320</td>\n",
       "      <td>1.395347</td>\n",
       "    </tr>\n",
       "    <tr>\n",
       "      <th>tenure</th>\n",
       "      <td>10000.0</td>\n",
       "      <td>5.012800e+00</td>\n",
       "      <td>2.892174</td>\n",
       "      <td>0.00</td>\n",
       "      <td>3.00</td>\n",
       "      <td>5.000000e+00</td>\n",
       "      <td>7.000000e+00</td>\n",
       "      <td>10.00</td>\n",
       "      <td>0.010991</td>\n",
       "      <td>-1.165225</td>\n",
       "    </tr>\n",
       "    <tr>\n",
       "      <th>balance</th>\n",
       "      <td>10000.0</td>\n",
       "      <td>7.648589e+04</td>\n",
       "      <td>62397.405202</td>\n",
       "      <td>0.00</td>\n",
       "      <td>0.00</td>\n",
       "      <td>9.719854e+04</td>\n",
       "      <td>1.276442e+05</td>\n",
       "      <td>250898.09</td>\n",
       "      <td>-0.141109</td>\n",
       "      <td>-1.489412</td>\n",
       "    </tr>\n",
       "    <tr>\n",
       "      <th>num_of_products</th>\n",
       "      <td>10000.0</td>\n",
       "      <td>1.530200e+00</td>\n",
       "      <td>0.581654</td>\n",
       "      <td>1.00</td>\n",
       "      <td>1.00</td>\n",
       "      <td>1.000000e+00</td>\n",
       "      <td>2.000000e+00</td>\n",
       "      <td>4.00</td>\n",
       "      <td>0.745568</td>\n",
       "      <td>0.582981</td>\n",
       "    </tr>\n",
       "    <tr>\n",
       "      <th>has_cr_card</th>\n",
       "      <td>10000.0</td>\n",
       "      <td>7.055000e-01</td>\n",
       "      <td>0.455840</td>\n",
       "      <td>0.00</td>\n",
       "      <td>0.00</td>\n",
       "      <td>1.000000e+00</td>\n",
       "      <td>1.000000e+00</td>\n",
       "      <td>1.00</td>\n",
       "      <td>-0.901812</td>\n",
       "      <td>-1.186973</td>\n",
       "    </tr>\n",
       "    <tr>\n",
       "      <th>is_active_member</th>\n",
       "      <td>10000.0</td>\n",
       "      <td>5.151000e-01</td>\n",
       "      <td>0.499797</td>\n",
       "      <td>0.00</td>\n",
       "      <td>0.00</td>\n",
       "      <td>1.000000e+00</td>\n",
       "      <td>1.000000e+00</td>\n",
       "      <td>1.00</td>\n",
       "      <td>-0.060437</td>\n",
       "      <td>-1.996747</td>\n",
       "    </tr>\n",
       "    <tr>\n",
       "      <th>estimated_salary</th>\n",
       "      <td>10000.0</td>\n",
       "      <td>1.000902e+05</td>\n",
       "      <td>57510.492818</td>\n",
       "      <td>11.58</td>\n",
       "      <td>51002.11</td>\n",
       "      <td>1.001939e+05</td>\n",
       "      <td>1.493882e+05</td>\n",
       "      <td>199992.48</td>\n",
       "      <td>0.002085</td>\n",
       "      <td>-1.181518</td>\n",
       "    </tr>\n",
       "    <tr>\n",
       "      <th>exited</th>\n",
       "      <td>10000.0</td>\n",
       "      <td>2.037000e-01</td>\n",
       "      <td>0.402769</td>\n",
       "      <td>0.00</td>\n",
       "      <td>0.00</td>\n",
       "      <td>0.000000e+00</td>\n",
       "      <td>0.000000e+00</td>\n",
       "      <td>1.00</td>\n",
       "      <td>1.471611</td>\n",
       "      <td>0.165671</td>\n",
       "    </tr>\n",
       "  </tbody>\n",
       "</table>\n",
       "</div>"
      ],
      "text/plain": [
       "                    count          mean           std          min  \\\n",
       "row_number        10000.0  5.000500e+03   2886.895680         1.00   \n",
       "customer_id       10000.0  1.569094e+07  71936.186123  15565701.00   \n",
       "credit_score      10000.0  6.505288e+02     96.653299       350.00   \n",
       "age               10000.0  3.892180e+01     10.487806        18.00   \n",
       "tenure            10000.0  5.012800e+00      2.892174         0.00   \n",
       "balance           10000.0  7.648589e+04  62397.405202         0.00   \n",
       "num_of_products   10000.0  1.530200e+00      0.581654         1.00   \n",
       "has_cr_card       10000.0  7.055000e-01      0.455840         0.00   \n",
       "is_active_member  10000.0  5.151000e-01      0.499797         0.00   \n",
       "estimated_salary  10000.0  1.000902e+05  57510.492818        11.58   \n",
       "exited            10000.0  2.037000e-01      0.402769         0.00   \n",
       "\n",
       "                          25%           50%           75%          max  \\\n",
       "row_number            2500.75  5.000500e+03  7.500250e+03     10000.00   \n",
       "customer_id       15628528.25  1.569074e+07  1.575323e+07  15815690.00   \n",
       "credit_score           584.00  6.520000e+02  7.180000e+02       850.00   \n",
       "age                     32.00  3.700000e+01  4.400000e+01        92.00   \n",
       "tenure                   3.00  5.000000e+00  7.000000e+00        10.00   \n",
       "balance                  0.00  9.719854e+04  1.276442e+05    250898.09   \n",
       "num_of_products          1.00  1.000000e+00  2.000000e+00         4.00   \n",
       "has_cr_card              0.00  1.000000e+00  1.000000e+00         1.00   \n",
       "is_active_member         0.00  1.000000e+00  1.000000e+00         1.00   \n",
       "estimated_salary     51002.11  1.001939e+05  1.493882e+05    199992.48   \n",
       "exited                   0.00  0.000000e+00  0.000000e+00         1.00   \n",
       "\n",
       "                      skew  kurtosis  \n",
       "row_number        0.000000 -1.200000  \n",
       "customer_id       0.001149 -1.196113  \n",
       "credit_score     -0.071607 -0.425726  \n",
       "age               1.011320  1.395347  \n",
       "tenure            0.010991 -1.165225  \n",
       "balance          -0.141109 -1.489412  \n",
       "num_of_products   0.745568  0.582981  \n",
       "has_cr_card      -0.901812 -1.186973  \n",
       "is_active_member -0.060437 -1.996747  \n",
       "estimated_salary  0.002085 -1.181518  \n",
       "exited            1.471611  0.165671  "
      ]
     },
     "execution_count": 10,
     "metadata": {},
     "output_type": "execute_result"
    }
   ],
   "source": [
    "skew = pd.DataFrame(numerical_attributes.apply(lambda x: x.skew()), columns=['skew']).T\n",
    "kurtosis = pd.DataFrame(numerical_attributes.apply(lambda x: x.kurtosis()), columns=['kurtosis']).T\n",
    "stats = pd.concat([data.describe(), skew, kurtosis]).round(2).T\n",
    "\n",
    "def style_specific_cell(x):\n",
    "    df = pd.DataFrame('', index=x.index, columns=x.columns)\n",
    "    \n",
    "    df.iloc[1, 2] = 'background-color: lightyellow'\n",
    "    df.iloc[5, 0] = df.iloc[5, 4] = 'background-color: lightblue'\n",
    "    df.iloc[0:5, 0] = 'background-color: lightgrey'   \n",
    "    \n",
    "    return df\n",
    "\n",
    "stats.drop(columns='count').style.apply(style_specific_cell, axis=None).format(\"{:.2f}\")"
   ]
  },
  {
   "cell_type": "markdown",
   "metadata": {},
   "source": [
    "#### 1.6.1.2 Adjustments\n",
    "\n",
    "    if needed"
   ]
  },
  {
   "cell_type": "markdown",
   "metadata": {},
   "source": [
    "#### 1.6.2. Categorical Attributes"
   ]
  },
  {
   "cell_type": "markdown",
   "metadata": {},
   "source": [
    "        Explanation"
   ]
  },
  {
   "cell_type": "code",
   "execution_count": 11,
   "metadata": {},
   "outputs": [
    {
     "data": {
      "text/plain": [
       "surname      2932\n",
       "geography       3\n",
       "gender          2\n",
       "dtype: int64"
      ]
     },
     "execution_count": 11,
     "metadata": {},
     "output_type": "execute_result"
    }
   ],
   "source": [
    "categorical_attributes.apply( lambda x: x.unique().shape[0] )"
   ]
  },
  {
   "cell_type": "code",
   "execution_count": null,
   "metadata": {},
   "outputs": [],
   "source": [
    "# numerical_attributes.select_dtypes(include=['int64','float64'], exclude=['bool']).columns # Try this first\n",
    "\n",
    "numerical_columns = []\n",
    "for column in numerical_attributes.columns:\n",
    "    if numerical_attributes[column].nunique() > 2:\n",
    "        numerical_columns.append(column)\n",
    "len(numerical_columns)"
   ]
  },
  {
   "cell_type": "code",
   "execution_count": 185,
   "metadata": {},
   "outputs": [
    {
     "data": {
      "image/png": "[encoded data removed]",
      "text/plain": [
       "<Figure size 1080x360 with 3 Axes>"
      ]
     },
     "metadata": {
      "needs_background": "light"
     },
     "output_type": "display_data"
    }
   ],
   "source": [
    "rows = len(numerical_columns); columns = categorical_attributes.shape[1]; plot = 0\n",
    "\n",
    "for n_attribute in numerical_columns:\n",
    "    plt.figure(figsize=(15,20))\n",
    "    plot += 1\n",
    "    plt.subplot( rows, columns, plot )\n",
    "    sns.boxplot( x='categorical_attribute_1', y = n_attribute, data=data )\n",
    "    plot += 1\n",
    "    plt.subplot( rows, columns, plot )\n",
    "    sns.boxplot( x='categorical_attribute_2', y = n_attribute, data=data )\n",
    "    \n",
    "    print(\"\\n\\n\"); plt.show()"
   ]
  },
  {
   "cell_type": "markdown",
   "metadata": {},
   "source": [
    "## 2.0 Hypothesis Creation\n",
    "\n",
    "Hypothesis Mind Map: [coggle.it](https://coggle.it/)"
   ]
  },
  {
   "cell_type": "code",
   "execution_count": null,
   "metadata": {},
   "outputs": [],
   "source": [
    "Image( 'img/MindMapHypothesis.png' )"
   ]
  },
  {
   "cell_type": "markdown",
   "metadata": {},
   "source": [
    "### 2.1 Hypothesis\n",
    "\n",
    "#### 2.1.1. ['column_name'] hypothesis.\n",
    "\n",
    "**1.** hypothesis\n",
    "\n",
    "**2.** hypothesis\n",
    "\n",
    "**3.** hypothesis\n",
    "\n",
    "**4.** hypothesis\n",
    "\n",
    "#### 2.1.2. ['column_name_2'] hypothesis.\n",
    "\n",
    "**1.** hypothesis\n",
    "\n",
    "**2.** hypothesis\n",
    "\n",
    "**3.** hypothesis\n",
    "\n",
    "**4.** hypothesis\n",
    "\n",
    "#### 2.1.3. ['column_name_3'] hypothesis.\n",
    "\n",
    "**1.** hypothesis\n",
    "\n",
    "**2.** hypothesis\n",
    "\n",
    "**3.** hypothesis\n",
    "\n",
    "**4.** hypothesis\n",
    "\n"
   ]
  },
  {
   "cell_type": "markdown",
   "metadata": {},
   "source": [
    "## 3.0 Feature Engineering"
   ]
  },
  {
   "cell_type": "code",
   "execution_count": 12,
   "metadata": {},
   "outputs": [],
   "source": [
    "data_frame = data.copy()"
   ]
  },
  {
   "cell_type": "markdown",
   "metadata": {},
   "source": [
    "#### 3.0.1. new_column_name_1"
   ]
  },
  {
   "cell_type": "code",
   "execution_count": null,
   "metadata": {},
   "outputs": [],
   "source": [
    "data_frame['new_column'] = ''' data_frame['column'] + - * / condition column to create new column'''"
   ]
  },
  {
   "cell_type": "markdown",
   "metadata": {},
   "source": [
    "#### 3.0.2. new_column_name_2"
   ]
  },
  {
   "cell_type": "code",
   "execution_count": null,
   "metadata": {},
   "outputs": [],
   "source": []
  },
  {
   "cell_type": "markdown",
   "metadata": {},
   "source": [
    "## 4.0 Filtering The Features"
   ]
  },
  {
   "cell_type": "code",
   "execution_count": null,
   "metadata": {},
   "outputs": [],
   "source": [
    "df = data_frame.copy()\n",
    "df.head(3)"
   ]
  },
  {
   "cell_type": "markdown",
   "metadata": {},
   "source": [
    "### 4.1 Final Modifications... if needed"
   ]
  },
  {
   "cell_type": "markdown",
   "metadata": {},
   "source": [
    "### 4.2 Column Selection"
   ]
  },
  {
   "cell_type": "code",
   "execution_count": null,
   "metadata": {},
   "outputs": [],
   "source": [
    "drop_columns = ['column_name','column_name','column_name','column_name']\n",
    "df.drop(columns=drop_columns, inplace=True)"
   ]
  },
  {
   "cell_type": "markdown",
   "metadata": {},
   "source": [
    "### 4.3 Row Selection"
   ]
  },
  {
   "cell_type": "code",
   "execution_count": null,
   "metadata": {},
   "outputs": [],
   "source": [
    "df = df[(df['column_name'] CONDITION) ]\n",
    "\n",
    "#df.query(\"\")"
   ]
  },
  {
   "cell_type": "markdown",
   "metadata": {},
   "source": [
    "## 5.0 Exploratory Data Analysis"
   ]
  },
  {
   "cell_type": "code",
   "execution_count": 14,
   "metadata": {},
   "outputs": [],
   "source": [
    "challengeName_data = df.copy()\n",
    "\n",
    "temporary_desc = describe_data(challengeName_data)\n",
    "temporary_desc"
   ]
  },
  {
   "cell_type": "code",
   "execution_count": null,
   "metadata": {},
   "outputs": [],
   "source": [
    "temporary_desc['data_types'].unique()"
   ]
  },
  {
   "cell_type": "code",
   "execution_count": 15,
   "metadata": {},
   "outputs": [],
   "source": [
    "numerical_attributes = challengeName_data.select_dtypes( include=['int64', 'float64'] )\n",
    "categorical_attributes = challengeName_data.select_dtypes( exclude=['int64', 'float64', 'datetime64[ns]'] )"
   ]
  },
  {
   "cell_type": "markdown",
   "metadata": {},
   "source": [
    "### 5.1 Univariate Analysis\n",
    "\n",
    "#### 5.1.1. Response Variable"
   ]
  },
  {
   "cell_type": "code",
   "execution_count": null,
   "metadata": {},
   "outputs": [],
   "source": [
    "sns.distplot(challangeName_data['y_column'])"
   ]
  },
  {
   "cell_type": "code",
   "execution_count": null,
   "metadata": {},
   "outputs": [],
   "source": [
    "# Normalization (search about it)\n",
    "sns.distplot( np.log1p(challangeName_data['y_column']) )"
   ]
  },
  {
   "cell_type": "markdown",
   "metadata": {},
   "source": [
    "#### 5.1.2. Numerical Variables\n",
    "\n",
    "    Explain them here. What do you see. What do they tell you..."
   ]
  },
  {
   "cell_type": "code",
   "execution_count": null,
   "metadata": {},
   "outputs": [],
   "source": [
    "plt.figure(figsize=(16,16))\n",
    "for column, subplot in zip(numerical_attributes, range(len(numerical_attributes))):\n",
    "    plt.subplot(4, 3, subplot+1)\n",
    "    sns.distplot( numerical_attributes[column], kde=False )\n",
    "    plt.xlabel(column,fontsize=14); plt.xticks(fontsize=12)\n",
    "plt.tight_layout()"
   ]
  },
  {
   "cell_type": "markdown",
   "metadata": {},
   "source": [
    "#### 5.1.3. Categorical Variables\n",
    "\n",
    "    sns.countplot() and sns.kdeplot()\n",
    "    \n",
    "    column_name according to categorical columns."
   ]
  },
  {
   "cell_type": "code",
   "execution_count": null,
   "metadata": {},
   "outputs": [],
   "source": [
    "get_categories(categorical_attributes)"
   ]
  },
  {
   "cell_type": "code",
   "execution_count": null,
   "metadata": {},
   "outputs": [],
   "source": [
    "# For Regression Problems (continuous response_variable - y)\n",
    "\n",
    "# categorical attribute 1\n",
    "plt.subplot( 2, 2, 1 )\n",
    "sns.countplot(cat_attributes['column_name'])\n",
    "\n",
    "plt.subplot( 2, 2, 2 )\n",
    "sns.kdeplot(challangeName_data[challangeName_data['column_name'] == 'category_1']['response_variable'], label='label_1', shade=True)\n",
    "sns.kdeplot(challangeName_data[challangeName_data['column_name'] == 'category_2']['response_variable'], label='label_2', shade=True)\n",
    "sns.kdeplot(challangeName_data[challangeName_data['column_name'] == 'category_3']['response_variable'], label='label_3', shade=True)\n",
    "\n",
    "# categorical attribute 2\n",
    "plt.subplot(2, 2, 3 )\n",
    "sns.countplot(challangeName_data['column_name_1'])\n",
    "\n",
    "plt.subplot( 2, 2, 4 )\n",
    "sns.kdeplot(challangeName_data[challangeName_data['column_name_1'] == 'category_1']['response_variable'], label='label_1', shade=True)\n",
    "sns.kdeplot(challangeName_data[challangeName_data['column_name_1'] == 'category_2']['response_variable'], label='label_2', shade=True)\n",
    "sns.kdeplot(challangeName_data[challangeName_data['column_name_1'] == 'category_3']['response_variable'], label='label_3', shade=True)\n",
    "plt.tight_layout()"
   ]
  },
  {
   "cell_type": "code",
   "execution_count": null,
   "metadata": {},
   "outputs": [],
   "source": [
    "# For Cassification Problems \n",
    "\n",
    "plt.figure(figsize=(10,8))\n",
    "\n",
    "# categorical attribute 1\n",
    "plt.subplot( 2, 2, 1 )\n",
    "sns.countplot(challangeName_data['column_name'])\n",
    "\n",
    "plt.subplot( 2, 2, 2 )\n",
    "sns.countplot(x='response_variable', hue='column_name', data=challangeName_data)\n",
    "\n",
    "# categorical attribute 2\n",
    "plt.subplot( 2, 2, 3 )\n",
    "sns.countplot(challangeName_data['column_name_1'])\n",
    "\n",
    "plt.subplot( 2, 2, 4 )\n",
    "sns.countplot(x='response_variable', hue='column_name_1', data=challangeName_data)\n",
    "plt.tight_layout()"
   ]
  },
  {
   "cell_type": "markdown",
   "metadata": {},
   "source": [
    "### 5.2 Bivariate Analysis\n",
    "\n",
    "    Your Pandas knowledge will help you while validating the hypotheses, \n",
    "    since you have to manipulate the data (groupy, join, cut...) to create\n",
    "    insights (graphs are welcome).\n",
    "    \n",
    "    New questions (hypotheses) are going to pop up in your mind, make sure\n",
    "    to look for answers and try to listen to the story the data tells you."
   ]
  },
  {
   "cell_type": "code",
   "execution_count": null,
   "metadata": {},
   "outputs": [],
   "source": [
    "df = challangeName_data"
   ]
  },
  {
   "cell_type": "markdown",
   "metadata": {},
   "source": [
    "#### _1. hypothesis._\n",
    "                \n",
    "> **Most valuable part of the answer**\n",
    ">\n",
    "> More information <br>\n",
    "> or maybe a thought <br>\n",
    "> (if needed).\n",
    "\n",
    "**_Financial question... How does this affects the company, in terms of revenue?_**\n",
    "\n",
    "        Maybe some explanation.\n",
    "\n",
    "> **Most valuable part of the answer**\n",
    ">\n",
    "> More information <br>\n",
    "> or maybe a thought <br>\n",
    "> (if needed)."
   ]
  },
  {
   "cell_type": "code",
   "execution_count": null,
   "metadata": {},
   "outputs": [],
   "source": []
  },
  {
   "cell_type": "code",
   "execution_count": null,
   "metadata": {},
   "outputs": [],
   "source": [
    "columns_used = ['column1', 'column2']\n",
    "sns.heatmap( ifood[columns_used].corr( method='pearson' ), annot=True );"
   ]
  },
  {
   "cell_type": "markdown",
   "metadata": {},
   "source": [
    "### 5.3 Multivariate Analysis"
   ]
  },
  {
   "cell_type": "code",
   "execution_count": null,
   "metadata": {},
   "outputs": [],
   "source": [
    "numerical_attributes = challangeName_data.select_dtypes( include=['int64', 'float64'] )\n",
    "categorical_attributes = challangeName_data.select_dtypes( exclude=['int64', 'float64', 'datetime64[ns]'] )"
   ]
  },
  {
   "cell_type": "markdown",
   "metadata": {},
   "source": [
    "#### 5.3.1. Numerical Attributes"
   ]
  },
  {
   "cell_type": "code",
   "execution_count": null,
   "metadata": {},
   "outputs": [],
   "source": [
    "plt.figure(figsize=(24, 12))\n",
    "correlations = numerical_attributes.corr().round(2)\n",
    "mask = np.triu(np.ones_like(correlations, dtype=np.bool))\n",
    "sns.heatmap(correlations, mask=mask, linewidths=1, annot=True, cmap=['#F2F2F0','#1F375D'], vmin=0.40) #vmax=-0.40\n",
    "plt.show()"
   ]
  },
  {
   "cell_type": "code",
   "execution_count": 35,
   "metadata": {},
   "outputs": [
    {
     "data": {
      "image/png": "[encoded data removed]",
      "text/plain": [
       "<Figure size 1080x432 with 2 Axes>"
      ]
     },
     "metadata": {
      "needs_background": "light"
     },
     "output_type": "display_data"
    }
   ],
   "source": [
    "plt.figure(figsize=(15, 6))\n",
    "sns.heatmap(numerical_attributes.corr().round(3), annot=True )\n",
    "plt.show()"
   ]
  },
  {
   "cell_type": "markdown",
   "metadata": {},
   "source": [
    "#### 5.3.2. Categorical Attributes\n",
    "\n",
    "[Cramer's v](https://en.wikipedia.org/wiki/Cram%C3%A9r%27s_V)"
   ]
  },
  {
   "cell_type": "code",
   "execution_count": 107,
   "metadata": {},
   "outputs": [
    {
     "data": {
      "image/png": "[encoded data removed]",
      "text/plain": [
       "<Figure size 720x360 with 2 Axes>"
      ]
     },
     "metadata": {
      "needs_background": "light"
     },
     "output_type": "display_data"
    }
   ],
   "source": [
    "categorical_corr = get_categorical_corr(categorical_attributes)\n",
    "plt.figure(figsize=(10, 5))\n",
    "sns.heatmap( categorical_corr, annot=True )\n",
    "plt.show()"
   ]
  },
  {
   "cell_type": "markdown",
   "metadata": {},
   "source": [
    "_**If you made it here, you already have insights that will help your business being successful. From here, you can go even further and start working on the machine learning to create a predictive solution (if needed).**_"
   ]
  }
 ],
 "metadata": {
  "kernelspec": {
   "display_name": "Python 3",
   "language": "python",
   "name": "python3"
  },
  "language_info": {
   "codemirror_mode": {
    "name": "ipython",
    "version": 3
   },
   "file_extension": ".py",
   "mimetype": "text/x-python",
   "name": "python",
   "nbconvert_exporter": "python",
   "pygments_lexer": "ipython3",
   "version": "3.8.5"
  }
 },
 "nbformat": 4,
 "nbformat_minor": 4
}
