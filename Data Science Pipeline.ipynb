{
 "cells": [
  {
   "cell_type": "markdown",
   "metadata": {},
   "source": [
    "_You can use this as a guide. I tried to make it general, but as each project has its own peculiarity you'll have to deal with that and adapt. Change the code, make it yours._\n",
    "\n",
    "> **1.0 - Describe Data - Data cleaning.**\n",
    ">\n",
    "> **2.0 - Create Hypothesis to validate with data (future insights).**\n",
    ">\n",
    "> **3.0 - Feature Engineering - \"Data Exploration\" (Feature Extraction/ Construction/ Selection... Feature Learning).**\n",
    ">\n",
    "> **4.0 - EDA (Exploratory Data Analysis) - Finding out Insights/ Answers to business questions.**\n",
    ">\n",
    "> **5.0 - Machine Learning (if needed)**\n",
    "\n",
    "## Agenda\n",
    "\n",
    "[Business Understanding](#Business-Understanding)<br> \n",
    "&emsp;[Business Questions](#Business-Questions)<br>\n",
    "&emsp;[Hypothesis](#Hypothesis)<br>\n",
    "\n",
    "[Imports](#Imports)<br>\n",
    "&emsp;[Helper Functions and Classes](#Helper-Functions-and-Classes)<br>\n",
    "&emsp;&emsp;[Analysis](#Analysis)<br>\n",
    "&emsp;&emsp;[Graph](#Graph)<br>\n",
    "&emsp;&emsp;[Directory](#Directory)<br>\n",
    "&emsp;&emsp;[Database](#Database)<br>\n",
    "\n",
    "[Settings](#Settings)<br>\n",
    "\n",
    "[Loading Data](#Loading-Data)<br>\n",
    "\n",
    "[Describing Data](#Describing-Data)<br>\n",
    "&emsp;[Renaming Columns](#Renaming-Columns)<br>\n",
    "&emsp;[Dealing with Missing Values](#Dealing-with-Missing-Values)<br>\n",
    "&emsp;[Remap values](#Remap-values)<br>\n",
    "&emsp;[Change Data Types](#Change-Data-Types)<br>\n",
    "&emsp;[Duplicates](#Duplicates)<br>\n",
    "&emsp;[Descriptive Statistics](#Descriptive-Statistics)<br>\n",
    "&emsp;&emsp;[Numerical Attributes](#Numerical-Attributes)<br>\n",
    "&emsp;&emsp;[Categorical Attributes](#Categorical-Attributes)<br>\n",
    "\n",
    "[Feature Engineering](#Feature-Engineering)<br>\n",
    "&emsp;[new_column_name_1](#new_column_name_1)<br>\n",
    "&emsp;[new_column_name_2](#new_column_name_2)<br>\n",
    "\n",
    "[Filters](#Filters)<br>\n",
    "&emsp;[Column Selection](#Column-Selection)<br>\n",
    "&emsp;[Row Selection](#Row-Selection)<br>\n",
    "\n",
    "[Business Answers](#Business-Answers)<br>\n",
    "\n",
    "[Exploratory Data Analysis](#Exploratory-Data-Analysis)<br>\n",
    "&emsp;[Univariate Analysis](#Univariate-Analysis)<br>\n",
    "&emsp;&emsp;[Response Variable](#Response-Variable)<br>\n",
    "&emsp;&emsp;[Numerical Variables](#Numerical-Variables)<br>\n",
    "&emsp;&emsp;[Categorical Variables](#Categorical-Variables)<br>\n",
    "&emsp;[Bivariate Analysis](#Bivariate-Analysis)<br>\n",
    "&emsp;[Multivariate Analysis](#Multivariate-Analysis)<br>\n",
    "&emsp;&emsp;[Numerical](#Numerical)<br>\n",
    "&emsp;&emsp;[Categorical](#Categorical)<br>\n",
    "\n",
    "[Dificulties and Solutions](#Dificulties-and-Solutions)<br>\n",
    "\n",
    "[Next Steps](#Next-Steps)<br>"
   ]
  },
  {
   "cell_type": "markdown",
   "metadata": {},
   "source": [
    "## Business Understanding\n",
    "[&#8593;](#Agenda)\n",
    "\n",
    "> **Motivation! What's the context?**\n",
    "> \n",
    "> **What outcome is the company trying to achieve?**\n",
    "> \n",
    "> **Problem - What pain we want to minimize?**\n",
    "> \n",
    "> ---\n",
    "> \n",
    "> **Why?**\n",
    "> \n",
    "> **Potential. What is the potential to solve it?**\n",
    "> \n",
    "> ---\n",
    "> \n",
    "> **What can the company do to achieve it?**\n",
    "> \n",
    "> _\"If I prove this right tomorrow how will you apply it in your business?\"_\n",
    "> \n",
    "> **Who are the stakeholders?**\n",
    "> \n",
    "> ---\n",
    "> \n",
    "> **What is the deliverable?**\n"
   ]
  },
  {
   "cell_type": "markdown",
   "metadata": {},
   "source": [
    "### Business Questions\n",
    "[&#8593;](#Agenda)\n",
    "\n",
    "**1.** hypothesis\n",
    "\n",
    "**2.** hypothesis\n",
    "\n",
    "**3.** hypothesis\n",
    "\n",
    "**4.** hypothesis"
   ]
  },
  {
   "cell_type": "markdown",
   "metadata": {},
   "source": [
    "### Hypothesis\n",
    "[&#8593;](#Agenda)\n",
    "\n",
    "#### ['column_name'] hypothesis.\n",
    "\n",
    "**1.** hypothesis\n",
    "\n",
    "**2.** hypothesis\n",
    "\n",
    "**3.** hypothesis\n",
    "\n",
    "**4.** hypothesis\n",
    "\n",
    "#### ['column_name_2'] hypothesis.\n",
    "\n",
    "**1.** hypothesis\n",
    "\n",
    "**2.** hypothesis\n",
    "\n",
    "**3.** hypothesis\n",
    "\n",
    "**4.** hypothesis"
   ]
  },
  {
   "cell_type": "markdown",
   "metadata": {},
   "source": [
    "### Imports\n",
    "[&#8593;](#Agenda)"
   ]
  },
  {
   "cell_type": "code",
   "execution_count": 2,
   "metadata": {},
   "outputs": [],
   "source": [
    "import pandas as pd\n",
    "# import inflection\n",
    "import missingno as msno\n",
    "import matplotlib.pyplot as plt\n",
    "import seaborn as sns\n",
    "import numpy as np\n",
    "\n",
    "import os\n",
    "\n",
    "# util\n",
    "from IPython.display import Image\n",
    "from scipy import stats"
   ]
  },
  {
   "cell_type": "markdown",
   "metadata": {},
   "source": [
    "### Helper Functions and Classes\n",
    "[&#8593;](#Agenda)"
   ]
  },
  {
   "cell_type": "markdown",
   "metadata": {},
   "source": [
    "### Analysis\n",
    "[&#8593;](#Agenda)"
   ]
  },
  {
   "cell_type": "code",
   "execution_count": 3,
   "metadata": {},
   "outputs": [],
   "source": [
    "def describe_data(data):\n",
    "    \"\"\" Inform Data Dimension. Data Types. Count and % of NaN.\n",
    "\n",
    "    :param data: pandas.DataFrame\n",
    "    :return: pandas.DataFrame with columns=['data_types', 'nan_count', 'nan_percentage']\n",
    "    \"\"\"\n",
    "\n",
    "    print(f\"Shape: {data.shape}\")\n",
    "    try:\n",
    "        print(f\"Duplicates: {data.duplicated().any()}\")\n",
    "    except Exception as e:\n",
    "        print(f\"Error when searching for duplicates:\\n\\t{e}\")\n",
    "\n",
    "    is_na = data.isna().sum()\n",
    "    is_na_percentage = is_na / data.shape[0] * 100\n",
    "    nan_data_frame = pd.concat([data.dtypes, is_na, is_na_percentage], axis=1)\n",
    "    nan_data_frame.columns = ['data_types', 'nan_count', 'nan_percentage']\n",
    "    return nan_data_frame\n",
    "\n",
    "\n",
    "# 1.2 Dealing with Missing Values\n",
    "def missing_plot(data, nan_cols, no_nan_col, x=15, y=5, first_graph=True, second_graph=True):\n",
    "    nan_cols.insert(0, no_nan_col)\n",
    "    try:\n",
    "        if first_graph:\n",
    "            msno.matrix(data[nan_cols], figsize=(x, y))\n",
    "            plt.show()\n",
    "        if second_graph:\n",
    "            msno.bar(data[nan_cols], figsize=(x, y))\n",
    "            plt.show()\n",
    "    except Exception as e:\n",
    "        print(e)\n",
    "    \n",
    "    \n",
    "# 5.1.3. Categorical Variables    \n",
    "def get_categories(data):\n",
    "    \"\"\" Generate a pandas.DataFrame with distinct values of each column\n",
    "\n",
    "    :param data: pandas.DataFrame\n",
    "    :return: pandas.DataFrame with unique values of each column\n",
    "    \"\"\"\n",
    "    df = pd.DataFrame()\n",
    "    for column in data.columns:\n",
    "        col = pd.Series(data[column].unique(), name=column)\n",
    "        df = pd.concat([df, col], axis=1).fillna('')\n",
    "    return df\n",
    "\n",
    "# 5.3 Multivariate Analysis \n",
    "#  5.3.2. Categorical Attributes\n",
    "def cramer_v( x, y ):\n",
    "    confusion_matrix = pd.crosstab( x, y ).to_numpy() \n",
    "    n = confusion_matrix.sum()\n",
    "    r, k = confusion_matrix.shape\n",
    "    \n",
    "    chi2 = stats.chi2_contingency( confusion_matrix )[0]\n",
    "    chi2corr = max( 0, chi2 - (k-1)*(r-1)/(n-1) )\n",
    "    \n",
    "    kcorr = k - (k-1)**2/(n-1)\n",
    "    rcorr = r - (r-1)**2/(n-1)\n",
    "    \n",
    "    return np.sqrt( (chi2corr/n) / ( min( kcorr-1, rcorr-1 ) ) )\n",
    "\n",
    "\n",
    "def get_categorical_corr(categorical_data):\n",
    "    categorical_correlation_matrix = {}\n",
    "\n",
    "    for column in categorical_data.columns:\n",
    "        correlation_values = []\n",
    "        for col in categorical_data.columns:\n",
    "            correlation_values.append(cramer_v(categorical_attributes[column], categorical_attributes[col]))\n",
    "\n",
    "        categorical_correlation_matrix[column] = correlation_values\n",
    "    \n",
    "    categorical_corr = pd.DataFrame(categorical_correlation_matrix)\n",
    "    categorical_corr = categorical_corr.set_index( categorical_corr.columns )\n",
    "    return categorical_corr \n",
    "\n",
    "\n",
    "def correlation(df, method='pearson'):\n",
    "    return df.corr(method=method).values[0][1]\n",
    "\n",
    "\n",
    "def join_paths(paths):\n",
    "    \"\"\" Join two or more paths (folders) into one absolute path\n",
    "\n",
    "    Parameters\n",
    "    ----------\n",
    "\n",
    "    paths : list of folders to be joined.\n",
    "        Last folder may be a file. E.g.:\n",
    "        ['data', 'raw', 'e_commerce.csv']\n",
    "\n",
    "    Returns\n",
    "    -------\n",
    "\n",
    "    string with joined paths\n",
    "\n",
    "    Examples\n",
    "    --------\n",
    "    >>> from data_science_lib.dir import join_paths\n",
    "    >>> print( join_paths(['C:\\\\Users\\\\Administrador\\\\Desktop\\\\RetailerProject\\', 'data', 'raw', 'e_commerce.csv']) )\n",
    "    C:\\\\Users\\\\Administrador\\\\Desktop\\\\RetailerProject\\\\data\\\\raw\\\\e_commerce.csv\n",
    "    \"\"\"\n",
    "\n",
    "    if not isinstance(paths, list):\n",
    "        raise ValueError(f\"Pass a list(). {type(paths)} passed instead.\")\n",
    "    elif len(paths) <= 1:\n",
    "        raise ValueError(f\"List with at least 2 paths is needed. Passed a list with {len(paths)} instead\")\n",
    "    else:\n",
    "        path = paths[0]\n",
    "        paths_lenght = len(paths)\n",
    "        for index in range(paths_lenght):\n",
    "            if index + 1 == paths_lenght: break\n",
    "            path = os.path.join(path, paths[index + 1])\n",
    "        return path"
   ]
  },
  {
   "cell_type": "markdown",
   "metadata": {},
   "source": [
    "### Graph\n",
    "[&#8593;](#Agenda)"
   ]
  },
  {
   "cell_type": "code",
   "execution_count": 4,
   "metadata": {},
   "outputs": [],
   "source": [
    "def fig(x=15, y=5, set_as_global=False, reset_to_default=False):\n",
    "    \"\"\" Adjust size of matplotlib figure\n",
    "\n",
    "    :param x: figure width.\n",
    "    :param y: figure height.\n",
    "    :param set_as_global: bool.\n",
    "        If True, then it sets \"x\" and \"y\" axis for all subsequent plots.\n",
    "    :param reset_to_default: bool.\n",
    "        If True, then it resets the global figure size back to default.\n",
    "    \"\"\"\n",
    "    if set_as_global:\n",
    "        plt.rcParams[\"figure.figsize\"] = (x, y)\n",
    "    elif reset_to_default:\n",
    "        plt.rcParams[\"figure.figsize\"] = plt.rcParamsDefault[\"figure.figsize\"]\n",
    "    else:\n",
    "        plt.figure(figsize=(x,y))"
   ]
  },
  {
   "cell_type": "code",
   "execution_count": 5,
   "metadata": {},
   "outputs": [],
   "source": [
    "class Graph:\n",
    "    def __init__(self):\n",
    "        self.x = 15\n",
    "        self.y = 5\n",
    "        self.box = False\n",
    "        self.xlabel=None\n",
    "        self.ylabel=None\n",
    "        self.xlabel_color=\"#838383\" \n",
    "        self.ylabel_color=\"#838383\" \n",
    "        self.xticks_color=\"#838383\" \n",
    "        self.yticks_color=\"#838383\"\n",
    "        self.xlabel_size=16 \n",
    "        self.ylabel_size=16 \n",
    "        self.xticks_size=12 \n",
    "        self.yticks_size=12 \n",
    "        self.xticks_rotation=.9\n",
    "        self.ticks_axis='both' \n",
    "        self.ticks_which='both' \n",
    "        self.ticks_length=0\n",
    "    \n",
    "    def show(self, **attributes):\n",
    "        self.update_attribute_values(attributes)\n",
    "        \n",
    "        plt.box(self.box)\n",
    "        plt.tick_params(axis=self.ticks_axis, which=self.ticks_which, length=self.ticks_length)\n",
    "\n",
    "        plt.xticks(color=self.xticks_color, rotation=self.xticks_rotation, size=self.xticks_size)\n",
    "        plt.yticks(color=self.yticks_color, size=self.yticks_size)\n",
    "        plt.xlabel(self.xlabel, color=self.xlabel_color, size=self.xlabel_size)\n",
    "        plt.ylabel(self.ylabel, color=self.ylabel_color, size=self.ylabel_size)\n",
    "        \n",
    "        return self\n",
    "        \n",
    "    def update_attribute_values(self, attributes):\n",
    "        for key in attributes.keys():\n",
    "            value = self.__dict__.get(key)\n",
    "            if value is not None:\n",
    "                self.__dict__[key] = attributes.get(key)\n",
    "        \n",
    "    def reset(self):\n",
    "        self.__init__()\n",
    "        return self"
   ]
  },
  {
   "cell_type": "markdown",
   "metadata": {},
   "source": [
    "### Directory\n",
    "[&#8593;](#Agenda)"
   ]
  },
  {
   "cell_type": "code",
   "execution_count": 6,
   "metadata": {},
   "outputs": [],
   "source": [
    "class Directory:\n",
    "    \"\"\" A Directory Manager\n",
    "\n",
    "    Parameters\n",
    "    ----------\n",
    "\n",
    "    __file__ : str, name of the current .py or .ipynb file\n",
    "\n",
    "    is_sub_project : bool, default=False\n",
    "\n",
    "        - If False, then this is considered a Major Project.\n",
    "          Thus, project template is \"project_name/notebooks\"\n",
    "        - If True, then this is considered one project inside\n",
    "          a set of projects. Project template looks like:\n",
    "          \"major_project_name/current_project_name/notebooks\"\n",
    "          or\n",
    "          \"consulting_to_company_name/current_project_name/notebooks\"\n",
    "\n",
    "        E.g.: Based on: https://drivendata.github.io/cookiecutter-data-science/\n",
    "\n",
    "            Project Name            Major Project Name\n",
    "            |                       |\n",
    "            - - data                - - data\n",
    "            |                       |\n",
    "            - - notebooks           - - project A\n",
    "                                    |   |\n",
    "                                    |   - - notebooks\n",
    "                                    |\n",
    "                                    - - project B\n",
    "                                        |\n",
    "                                        - - notebooks\n",
    "\n",
    "    data_file_name : str, default=\"data\"\n",
    "        File name where data is stored.\n",
    "\n",
    "\n",
    "    Attributes\n",
    "    ----------\n",
    "\n",
    "    __file__ : str, name of the current .py or .ipynb file\n",
    "\n",
    "    THIS_DIR : str, absolute path to {__file__} file\n",
    "\n",
    "    BASE_DIR : str, absolute path to the Main Directory of the Project\n",
    "\n",
    "    DATA_DIR : str, absolute path to data directory\n",
    "\n",
    "    \"\"\"\n",
    "\n",
    "    def __init__(self, __file__, is_sub_project=False, data_file_name='data'):\n",
    "        self.__file__ = __file__\n",
    "        self.THIS_DIR = os.path.dirname(os.path.abspath(__file__))\n",
    "        self.BASE_DIR = os.path.dirname(os.path.dirname(os.path.abspath(__file__)))\n",
    "        if is_sub_project:\n",
    "            self.BASE_DIR = os.path.dirname(self.BASE_DIR)\n",
    "        self.DATA_DIR = os.path.join(os.path.join(self.BASE_DIR, data_file_name))\n",
    "\n",
    "    def __str__(self):\n",
    "        return f'''Directory(__file__ = {self.__file__},\n",
    "        THIS_DIR = {self.THIS_DIR},\n",
    "        BASE_DIR = {self.BASE_DIR},\n",
    "        DATA_DIR = {self.DATA_DIR})'''"
   ]
  },
  {
   "cell_type": "markdown",
   "metadata": {},
   "source": [
    "### Database\n",
    "[&#8593;](#Agenda)"
   ]
  },
  {
   "cell_type": "code",
   "execution_count": null,
   "metadata": {},
   "outputs": [],
   "source": [
    "import pymongo\n",
    "\n",
    "\n",
    "class MongoDB:\n",
    "    def __init__(self, database='mydb', client=\"mongodb://localhost:27017/\"):\n",
    "        self.client = pymongo.MongoClient(client)\n",
    "        self.db = self.client[database]\n",
    "        self.collections = {}\n",
    "\n",
    "    def add_collection(self, collection):\n",
    "        self.collections[collection] = self.db[collection]\n",
    "        return self\n",
    "\n",
    "    def drop_collection(self, collection):\n",
    "        self.db[collection].drop()\n",
    "        return self\n",
    "\n",
    "    def drop_collections(self, collections):\n",
    "        for collection in collections:\n",
    "            self.db[collection].drop()\n",
    "        return self\n",
    "\n",
    "    def databases(self):\n",
    "        return self.client.list_database_names()\n",
    "\n",
    "    def collection(self, collection):\n",
    "        if collection in self.collections:\n",
    "            return self.collections[collection]\n",
    "        else:\n",
    "            self.add_collection(collection)\n",
    "            return self.collections[collection]\n",
    "\n",
    "    def collection_names(self):\n",
    "        return self.db.list_collection_names()"
   ]
  },
  {
   "cell_type": "code",
   "execution_count": null,
   "metadata": {},
   "outputs": [],
   "source": [
    "import psycopg2\n",
    "\n",
    "class PostgreSQL:\n",
    "    def __init__(self, host=\"localhost\", user=\"postgres\", password=\"********\", database=\"postgres\"):\n",
    "        self.conn = psycopg2.connect(host=host, user=user, password=password, database=database)\n",
    "        self.cursor = self.conn.cursor()\n",
    "\n",
    "    def execute(self, query, has_return=True):\n",
    "        self.cursor.execute(query)\n",
    "        if has_return:\n",
    "            try:\n",
    "                return [table for table in self.cursor.fetchall()]\n",
    "            except Exception as e:\n",
    "                self.rollback()\n",
    "                print(\"Warning: This Query Does Not return results to fetch.\\nAssign has_return=False\")\n",
    "                print(f'  {e} from:\\n\\n{query}')\n",
    "\n",
    "    def columns(self, table_name):\n",
    "        self.cursor.execute(F\"\"\"SELECT column_name FROM information_schema.columns WHERE table_name = '{table_name}'\"\"\")\n",
    "        return [table[0] for table in self.cursor.fetchall()]\n",
    "\n",
    "    def tables(self):\n",
    "        self.cursor.execute(\"\"\"SELECT table_name FROM information_schema.tables WHERE table_schema = 'public'\"\"\")\n",
    "        return [table[0] for table in self.cursor.fetchall()]\n",
    "\n",
    "    def rollback(self):\n",
    "        self.cursor.execute(\"ROLLBACK;\")\n",
    "\n",
    "    def close(self):\n",
    "        self.conn.close()\n",
    "\n",
    "\n",
    "class QueryBuilder:\n",
    "    def __init__(self):\n",
    "        self.select_value = ''\n",
    "        self.from_table_name = ''\n",
    "        self.where_value = ''\n",
    "        self.groupby_value = ''\n",
    "        self.limit_value = ''\n",
    "        self.having_value = ''\n",
    "        self.last_query_value = ''\n",
    "\n",
    "    def select(self, select_arg):\n",
    "        self.select_value = select_arg\n",
    "        return self\n",
    "\n",
    "    def from_table(self, from_arg):\n",
    "        self.from_table_name = from_arg\n",
    "        return self\n",
    "\n",
    "    def where(self, where_arg):\n",
    "        self.where_value = where_arg\n",
    "        return self\n",
    "\n",
    "    def groupby(self, groupby_args):\n",
    "        self.groupby_value = groupby_args\n",
    "        return self\n",
    "\n",
    "    def having(self, having_value):\n",
    "        self.having_value = having_value\n",
    "\n",
    "    def limit(self, limit_args):\n",
    "        self.limit_value = limit_args\n",
    "        return self\n",
    "\n",
    "    def reset(self):\n",
    "        self.select_value = ''\n",
    "        self.from_table_name = ''\n",
    "        self.where_value = ''\n",
    "        self.groupby_value = ''\n",
    "        self.limit_value = ''\n",
    "        self.having_value = ''\n",
    "        return self\n",
    "\n",
    "    def last_query(self):\n",
    "        return self.last_query_value\n",
    "\n",
    "    def build(self, reset=True):\n",
    "        where_clause = ''\n",
    "        groupby_clause = ''\n",
    "        having_clause = ''\n",
    "        limit_clause = ''\n",
    "\n",
    "        if self.where_value:\n",
    "            where_clause = f'WHERE  {self.where_value}'\n",
    "        if self.groupby_value:\n",
    "            groupby_clause = f'GROUP BY {self.groupby_value}'\n",
    "        if self.limit_value:\n",
    "            limit_clause = f'LIMIT {self.limit_value}'\n",
    "        if self.having_value:\n",
    "            having_clause = f'HAVING {self.having_value}'\n",
    "\n",
    "        self.last_query_value = f\"\"\"\n",
    "           SELECT {self.select_value}\n",
    "           FROM   {self.from_table_name}\n",
    "           {where_clause}\n",
    "           {groupby_clause}\n",
    "           {having_clause}\n",
    "           {limit_clause};\n",
    "        \"\"\"\n",
    "\n",
    "        if reset:\n",
    "            self.reset()\n",
    "\n",
    "        return self.last_query_value\n",
    "    \n",
    "    \n",
    "def to_pandas(query_result, columns):\n",
    "    return pd.DataFrame(query_result, columns=columns)\n",
    "\n",
    "def write_query(file_name, query):\n",
    "    with open(f'{file_name}.sql', 'w') as file:\n",
    "        file.write(query)\n",
    "\n",
    "def read_query(path):      \n",
    "    with open(f'{path}', 'r') as file:\n",
    "        return file.read()"
   ]
  },
  {
   "cell_type": "markdown",
   "metadata": {},
   "source": [
    "## Settings\n",
    "[&#8593;](#Agenda)"
   ]
  },
  {
   "cell_type": "code",
   "execution_count": 8,
   "metadata": {},
   "outputs": [
    {
     "name": "stdout",
     "output_type": "stream",
     "text": [
      "Directory(__file__ = Data Science Pipeline,\n",
      "        THIS_DIR = C:\\Users\\Administrador\\Desktop\\Paulo\\data_sience_on_going\\data_science_lib\\notebooks,\n",
      "        BASE_DIR = C:\\Users\\Administrador\\Desktop\\Paulo\\data_sience_on_going\\data_science_lib,\n",
      "        DATA_DIR = C:\\Users\\Administrador\\Desktop\\Paulo\\data_sience_on_going\\data_science_lib\\data)\n"
     ]
    }
   ],
   "source": [
    "__file__ = \"Data Science Pipeline\"\n",
    "directory = Directory(__file__)\n",
    "print(directory.__str__())"
   ]
  },
  {
   "cell_type": "code",
   "execution_count": null,
   "metadata": {},
   "outputs": [],
   "source": [
    "g = Graph()"
   ]
  },
  {
   "cell_type": "markdown",
   "metadata": {},
   "source": [
    "## Loading Data\n",
    "[&#8593;](#Agenda)"
   ]
  },
  {
   "cell_type": "code",
   "execution_count": 9,
   "metadata": {},
   "outputs": [
    {
     "name": "stdout",
     "output_type": "stream",
     "text": [
      "Wall time: 9.82 s\n"
     ]
    },
    {
     "data": {
      "text/html": [
       "<div>\n",
       "<style scoped>\n",
       "    .dataframe tbody tr th:only-of-type {\n",
       "        vertical-align: middle;\n",
       "    }\n",
       "\n",
       "    .dataframe tbody tr th {\n",
       "        vertical-align: top;\n",
       "    }\n",
       "\n",
       "    .dataframe thead th {\n",
       "        text-align: right;\n",
       "    }\n",
       "</style>\n",
       "<table border=\"1\" class=\"dataframe\">\n",
       "  <thead>\n",
       "    <tr style=\"text-align: right;\">\n",
       "      <th></th>\n",
       "      <th>Row ID</th>\n",
       "      <th>Order ID</th>\n",
       "      <th>Order Date</th>\n",
       "      <th>Ship Date</th>\n",
       "      <th>Ship Mode</th>\n",
       "      <th>Customer ID</th>\n",
       "      <th>Customer Name</th>\n",
       "      <th>Segment</th>\n",
       "      <th>City</th>\n",
       "      <th>State</th>\n",
       "      <th>...</th>\n",
       "      <th>Product ID</th>\n",
       "      <th>Category</th>\n",
       "      <th>Sub-Category</th>\n",
       "      <th>Product Name</th>\n",
       "      <th>Sales</th>\n",
       "      <th>Quantity</th>\n",
       "      <th>Discount</th>\n",
       "      <th>Profit</th>\n",
       "      <th>Shipping Cost</th>\n",
       "      <th>Order Priority</th>\n",
       "    </tr>\n",
       "  </thead>\n",
       "  <tbody>\n",
       "    <tr>\n",
       "      <th>0</th>\n",
       "      <td>42433</td>\n",
       "      <td>AG-2011-2040</td>\n",
       "      <td>1/1/2011</td>\n",
       "      <td>6/1/2011</td>\n",
       "      <td>Standard Class</td>\n",
       "      <td>TB-11280</td>\n",
       "      <td>Toby Braunhardt</td>\n",
       "      <td>Consumer</td>\n",
       "      <td>Constantine</td>\n",
       "      <td>Constantine</td>\n",
       "      <td>...</td>\n",
       "      <td>OFF-TEN-10000025</td>\n",
       "      <td>Office Supplies</td>\n",
       "      <td>Storage</td>\n",
       "      <td>Tenex Lockers, Blue</td>\n",
       "      <td>408.300</td>\n",
       "      <td>2</td>\n",
       "      <td>0.0</td>\n",
       "      <td>106.140</td>\n",
       "      <td>35.46</td>\n",
       "      <td>Medium</td>\n",
       "    </tr>\n",
       "    <tr>\n",
       "      <th>1</th>\n",
       "      <td>22253</td>\n",
       "      <td>IN-2011-47883</td>\n",
       "      <td>1/1/2011</td>\n",
       "      <td>8/1/2011</td>\n",
       "      <td>Standard Class</td>\n",
       "      <td>JH-15985</td>\n",
       "      <td>Joseph Holt</td>\n",
       "      <td>Consumer</td>\n",
       "      <td>Wagga Wagga</td>\n",
       "      <td>New South Wales</td>\n",
       "      <td>...</td>\n",
       "      <td>OFF-SU-10000618</td>\n",
       "      <td>Office Supplies</td>\n",
       "      <td>Supplies</td>\n",
       "      <td>Acme Trimmer, High Speed</td>\n",
       "      <td>120.366</td>\n",
       "      <td>3</td>\n",
       "      <td>0.1</td>\n",
       "      <td>36.036</td>\n",
       "      <td>9.72</td>\n",
       "      <td>Medium</td>\n",
       "    </tr>\n",
       "    <tr>\n",
       "      <th>2</th>\n",
       "      <td>48883</td>\n",
       "      <td>HU-2011-1220</td>\n",
       "      <td>1/1/2011</td>\n",
       "      <td>5/1/2011</td>\n",
       "      <td>Second Class</td>\n",
       "      <td>AT-735</td>\n",
       "      <td>Annie Thurman</td>\n",
       "      <td>Consumer</td>\n",
       "      <td>Budapest</td>\n",
       "      <td>Budapest</td>\n",
       "      <td>...</td>\n",
       "      <td>OFF-TEN-10001585</td>\n",
       "      <td>Office Supplies</td>\n",
       "      <td>Storage</td>\n",
       "      <td>Tenex Box, Single Width</td>\n",
       "      <td>66.120</td>\n",
       "      <td>4</td>\n",
       "      <td>0.0</td>\n",
       "      <td>29.640</td>\n",
       "      <td>8.17</td>\n",
       "      <td>High</td>\n",
       "    </tr>\n",
       "  </tbody>\n",
       "</table>\n",
       "<p>3 rows × 24 columns</p>\n",
       "</div>"
      ],
      "text/plain": [
       "   Row ID       Order ID Order Date Ship Date       Ship Mode Customer ID  \\\n",
       "0   42433   AG-2011-2040   1/1/2011  6/1/2011  Standard Class    TB-11280   \n",
       "1   22253  IN-2011-47883   1/1/2011  8/1/2011  Standard Class    JH-15985   \n",
       "2   48883   HU-2011-1220   1/1/2011  5/1/2011    Second Class      AT-735   \n",
       "\n",
       "     Customer Name   Segment         City            State  ...  \\\n",
       "0  Toby Braunhardt  Consumer  Constantine      Constantine  ...   \n",
       "1      Joseph Holt  Consumer  Wagga Wagga  New South Wales  ...   \n",
       "2    Annie Thurman  Consumer     Budapest         Budapest  ...   \n",
       "\n",
       "         Product ID         Category Sub-Category              Product Name  \\\n",
       "0  OFF-TEN-10000025  Office Supplies      Storage       Tenex Lockers, Blue   \n",
       "1   OFF-SU-10000618  Office Supplies     Supplies  Acme Trimmer, High Speed   \n",
       "2  OFF-TEN-10001585  Office Supplies      Storage   Tenex Box, Single Width   \n",
       "\n",
       "     Sales Quantity Discount   Profit  Shipping Cost  Order Priority  \n",
       "0  408.300        2      0.0  106.140          35.46          Medium  \n",
       "1  120.366        3      0.1   36.036           9.72          Medium  \n",
       "2   66.120        4      0.0   29.640           8.17            High  \n",
       "\n",
       "[3 rows x 24 columns]"
      ]
     },
     "execution_count": 9,
     "metadata": {},
     "output_type": "execute_result"
    }
   ],
   "source": [
    "%%time\n",
    "data_path = \"\"\n",
    "raw_data = pd.read_csv(data_path, encoding_errors='ignore')\n",
    "raw_data.head(3)"
   ]
  },
  {
   "cell_type": "markdown",
   "metadata": {},
   "source": [
    "## Describing Data\n",
    "[&#8593;](#Agenda)"
   ]
  },
  {
   "cell_type": "code",
   "execution_count": 10,
   "metadata": {},
   "outputs": [],
   "source": [
    "data = raw_data.copy()"
   ]
  },
  {
   "cell_type": "markdown",
   "metadata": {},
   "source": [
    "### Renaming Columns\n",
    "[&#8593;](#Agenda)\n",
    "\n",
    "[inflection docs](https://inflection.readthedocs.io/en/latest/) &emsp; [lambda](https://www.w3schools.com/python/python_lambda.asp) &emsp; [map](https://www.geeksforgeeks.org/python-map-function/)"
   ]
  },
  {
   "cell_type": "code",
   "execution_count": 11,
   "metadata": {},
   "outputs": [
    {
     "data": {
      "text/plain": [
       "Index(['Row ID', 'Order ID', 'Order Date', 'Ship Date', 'Ship Mode',\n",
       "       'Customer ID', 'Customer Name', 'Segment', 'City', 'State', 'Country',\n",
       "       'Postal Code', 'Market', 'Region', 'Product ID', 'Category',\n",
       "       'Sub-Category', 'Product Name', 'Sales', 'Quantity', 'Discount',\n",
       "       'Profit', 'Shipping Cost', 'Order Priority'],\n",
       "      dtype='object')"
      ]
     },
     "execution_count": 11,
     "metadata": {},
     "output_type": "execute_result"
    }
   ],
   "source": [
    "data.columns"
   ]
  },
  {
   "cell_type": "code",
   "execution_count": 12,
   "metadata": {},
   "outputs": [
    {
     "data": {
      "text/plain": [
       "Index(['row_id', 'order_id', 'order_date', 'ship_date', 'ship_mode',\n",
       "       'customer_id', 'customer_name', 'segment', 'city', 'state', 'country',\n",
       "       'postal_code', 'market', 'region', 'product_id', 'category',\n",
       "       'sub_category', 'product_name', 'sales', 'quantity', 'discount',\n",
       "       'profit', 'shipping_cost', 'order_priority'],\n",
       "      dtype='object')"
      ]
     },
     "execution_count": 12,
     "metadata": {},
     "output_type": "execute_result"
    }
   ],
   "source": [
    "# snakecase = lambda x: inflection.underscore(x)\n",
    "snakecase = lambda x: str(x).lower().replace(' ', '_').replace('-', '_')\n",
    "data.columns = map(snakecase, data.columns)\n",
    "data.columns"
   ]
  },
  {
   "cell_type": "markdown",
   "metadata": {},
   "source": [
    "> **Data Dimension. Data Types. Check NaN.**"
   ]
  },
  {
   "cell_type": "code",
   "execution_count": 13,
   "metadata": {},
   "outputs": [
    {
     "name": "stdout",
     "output_type": "stream",
     "text": [
      "Shape: (51290, 24)\n",
      "Duplicates: False\n"
     ]
    },
    {
     "data": {
      "text/html": [
       "<div>\n",
       "<style scoped>\n",
       "    .dataframe tbody tr th:only-of-type {\n",
       "        vertical-align: middle;\n",
       "    }\n",
       "\n",
       "    .dataframe tbody tr th {\n",
       "        vertical-align: top;\n",
       "    }\n",
       "\n",
       "    .dataframe thead th {\n",
       "        text-align: right;\n",
       "    }\n",
       "</style>\n",
       "<table border=\"1\" class=\"dataframe\">\n",
       "  <thead>\n",
       "    <tr style=\"text-align: right;\">\n",
       "      <th></th>\n",
       "      <th>data_types</th>\n",
       "      <th>nan_count</th>\n",
       "      <th>nan_percentage</th>\n",
       "    </tr>\n",
       "  </thead>\n",
       "  <tbody>\n",
       "    <tr>\n",
       "      <th>row_id</th>\n",
       "      <td>int64</td>\n",
       "      <td>0</td>\n",
       "      <td>0.00000</td>\n",
       "    </tr>\n",
       "    <tr>\n",
       "      <th>order_id</th>\n",
       "      <td>object</td>\n",
       "      <td>0</td>\n",
       "      <td>0.00000</td>\n",
       "    </tr>\n",
       "    <tr>\n",
       "      <th>order_date</th>\n",
       "      <td>object</td>\n",
       "      <td>0</td>\n",
       "      <td>0.00000</td>\n",
       "    </tr>\n",
       "    <tr>\n",
       "      <th>ship_date</th>\n",
       "      <td>object</td>\n",
       "      <td>0</td>\n",
       "      <td>0.00000</td>\n",
       "    </tr>\n",
       "    <tr>\n",
       "      <th>ship_mode</th>\n",
       "      <td>object</td>\n",
       "      <td>0</td>\n",
       "      <td>0.00000</td>\n",
       "    </tr>\n",
       "    <tr>\n",
       "      <th>customer_id</th>\n",
       "      <td>object</td>\n",
       "      <td>0</td>\n",
       "      <td>0.00000</td>\n",
       "    </tr>\n",
       "    <tr>\n",
       "      <th>customer_name</th>\n",
       "      <td>object</td>\n",
       "      <td>0</td>\n",
       "      <td>0.00000</td>\n",
       "    </tr>\n",
       "    <tr>\n",
       "      <th>segment</th>\n",
       "      <td>object</td>\n",
       "      <td>0</td>\n",
       "      <td>0.00000</td>\n",
       "    </tr>\n",
       "    <tr>\n",
       "      <th>city</th>\n",
       "      <td>object</td>\n",
       "      <td>0</td>\n",
       "      <td>0.00000</td>\n",
       "    </tr>\n",
       "    <tr>\n",
       "      <th>state</th>\n",
       "      <td>object</td>\n",
       "      <td>0</td>\n",
       "      <td>0.00000</td>\n",
       "    </tr>\n",
       "    <tr>\n",
       "      <th>country</th>\n",
       "      <td>object</td>\n",
       "      <td>0</td>\n",
       "      <td>0.00000</td>\n",
       "    </tr>\n",
       "    <tr>\n",
       "      <th>postal_code</th>\n",
       "      <td>float64</td>\n",
       "      <td>41296</td>\n",
       "      <td>80.51472</td>\n",
       "    </tr>\n",
       "    <tr>\n",
       "      <th>market</th>\n",
       "      <td>object</td>\n",
       "      <td>0</td>\n",
       "      <td>0.00000</td>\n",
       "    </tr>\n",
       "    <tr>\n",
       "      <th>region</th>\n",
       "      <td>object</td>\n",
       "      <td>0</td>\n",
       "      <td>0.00000</td>\n",
       "    </tr>\n",
       "    <tr>\n",
       "      <th>product_id</th>\n",
       "      <td>object</td>\n",
       "      <td>0</td>\n",
       "      <td>0.00000</td>\n",
       "    </tr>\n",
       "    <tr>\n",
       "      <th>category</th>\n",
       "      <td>object</td>\n",
       "      <td>0</td>\n",
       "      <td>0.00000</td>\n",
       "    </tr>\n",
       "    <tr>\n",
       "      <th>sub_category</th>\n",
       "      <td>object</td>\n",
       "      <td>0</td>\n",
       "      <td>0.00000</td>\n",
       "    </tr>\n",
       "    <tr>\n",
       "      <th>product_name</th>\n",
       "      <td>object</td>\n",
       "      <td>0</td>\n",
       "      <td>0.00000</td>\n",
       "    </tr>\n",
       "    <tr>\n",
       "      <th>sales</th>\n",
       "      <td>float64</td>\n",
       "      <td>0</td>\n",
       "      <td>0.00000</td>\n",
       "    </tr>\n",
       "    <tr>\n",
       "      <th>quantity</th>\n",
       "      <td>int64</td>\n",
       "      <td>0</td>\n",
       "      <td>0.00000</td>\n",
       "    </tr>\n",
       "    <tr>\n",
       "      <th>discount</th>\n",
       "      <td>float64</td>\n",
       "      <td>0</td>\n",
       "      <td>0.00000</td>\n",
       "    </tr>\n",
       "    <tr>\n",
       "      <th>profit</th>\n",
       "      <td>float64</td>\n",
       "      <td>0</td>\n",
       "      <td>0.00000</td>\n",
       "    </tr>\n",
       "    <tr>\n",
       "      <th>shipping_cost</th>\n",
       "      <td>float64</td>\n",
       "      <td>0</td>\n",
       "      <td>0.00000</td>\n",
       "    </tr>\n",
       "    <tr>\n",
       "      <th>order_priority</th>\n",
       "      <td>object</td>\n",
       "      <td>0</td>\n",
       "      <td>0.00000</td>\n",
       "    </tr>\n",
       "  </tbody>\n",
       "</table>\n",
       "</div>"
      ],
      "text/plain": [
       "               data_types  nan_count  nan_percentage\n",
       "row_id              int64          0         0.00000\n",
       "order_id           object          0         0.00000\n",
       "order_date         object          0         0.00000\n",
       "ship_date          object          0         0.00000\n",
       "ship_mode          object          0         0.00000\n",
       "customer_id        object          0         0.00000\n",
       "customer_name      object          0         0.00000\n",
       "segment            object          0         0.00000\n",
       "city               object          0         0.00000\n",
       "state              object          0         0.00000\n",
       "country            object          0         0.00000\n",
       "postal_code       float64      41296        80.51472\n",
       "market             object          0         0.00000\n",
       "region             object          0         0.00000\n",
       "product_id         object          0         0.00000\n",
       "category           object          0         0.00000\n",
       "sub_category       object          0         0.00000\n",
       "product_name       object          0         0.00000\n",
       "sales             float64          0         0.00000\n",
       "quantity            int64          0         0.00000\n",
       "discount          float64          0         0.00000\n",
       "profit            float64          0         0.00000\n",
       "shipping_cost     float64          0         0.00000\n",
       "order_priority     object          0         0.00000"
      ]
     },
     "execution_count": 13,
     "metadata": {},
     "output_type": "execute_result"
    }
   ],
   "source": [
    "describe_data(data)#.T"
   ]
  },
  {
   "cell_type": "markdown",
   "metadata": {},
   "source": [
    "### Dealing with Missing Values\n",
    "[&#8593;](#Agenda)"
   ]
  },
  {
   "cell_type": "code",
   "execution_count": 15,
   "metadata": {},
   "outputs": [
    {
     "name": "stdout",
     "output_type": "stream",
     "text": [
      "Shape: (51290, 24)\n",
      "Duplicates: False\n"
     ]
    },
    {
     "data": {
      "image/png": "[encoded data removed]",
      "text/plain": [
       "<Figure size 1080x360 with 2 Axes>"
      ]
     },
     "metadata": {
      "needs_background": "light"
     },
     "output_type": "display_data"
    },
    {
     "data": {
      "image/png": "[encoded data removed]",
      "text/plain": [
       "<Figure size 1080x360 with 3 Axes>"
      ]
     },
     "metadata": {
      "needs_background": "light"
     },
     "output_type": "display_data"
    }
   ],
   "source": [
    "nan_cols = list(describe_data(data).query('nan_percentage > 0').index)\n",
    "missing_plot(data, nan_cols, \"column_with_no_nan\")"
   ]
  },
  {
   "cell_type": "code",
   "execution_count": null,
   "metadata": {},
   "outputs": [],
   "source": [
    "# Drop\n",
    "data.dropna(inplace=True)\n",
    "\n",
    "# Fill (mean, median, etc...)\n",
    "data['column_name'].fillna('value_returned_by_function', inplace=True)\n",
    "\n",
    "# Fill (with some specification)\n",
    "data['column_name'] = data.apply(lambda x: 'x + value?' if \"condition\" else \"x itself or other value\")"
   ]
  },
  {
   "cell_type": "markdown",
   "metadata": {},
   "source": [
    "### Remap values\n",
    "[&#8593;](#Agenda)\n",
    "\n",
    "[replace](https://stackoverflow.com/questions/20250771/remap-values-in-pandas-column-with-a-dict)"
   ]
  },
  {
   "cell_type": "code",
   "execution_count": null,
   "metadata": {},
   "outputs": [],
   "source": [
    "# map\n",
    "dict_map = {1: 'example_1',  2: 'example_2',  3: 'example_3'}\n",
    "data['column_name'].map( dict_map )\n",
    "\n",
    "# replace (map is faster)\n",
    "data['column_name'].replace(\"original_value\", 'new_value')"
   ]
  },
  {
   "cell_type": "markdown",
   "metadata": {},
   "source": [
    "### Change Data Types\n",
    "[&#8593;](#Agenda)\n",
    "\n",
    "[Other Ways](https://stackoverflow.com/questions/15891038/change-column-type-in-pandas)"
   ]
  },
  {
   "cell_type": "code",
   "execution_count": null,
   "metadata": {},
   "outputs": [],
   "source": [
    "describe_data(data)"
   ]
  },
  {
   "cell_type": "code",
   "execution_count": null,
   "metadata": {},
   "outputs": [],
   "source": [
    "# YES, APPLY BOOLEAN WAY OF LIFE\n",
    "data['column_name'] = data['column_name'].astype('bool')"
   ]
  },
  {
   "cell_type": "code",
   "execution_count": null,
   "metadata": {},
   "outputs": [],
   "source": [
    "data['column_name'] = data['column_name'].astype( int )"
   ]
  },
  {
   "cell_type": "code",
   "execution_count": 16,
   "metadata": {},
   "outputs": [],
   "source": [
    "data['order_date'] = pd.to_datetime(data['order_date'])"
   ]
  },
  {
   "cell_type": "code",
   "execution_count": null,
   "metadata": {},
   "outputs": [],
   "source": [
    "describe_data(data)"
   ]
  },
  {
   "cell_type": "markdown",
   "metadata": {},
   "source": [
    "### Duplicates\n",
    "[&#8593;](#Agenda)"
   ]
  },
  {
   "cell_type": "code",
   "execution_count": 18,
   "metadata": {},
   "outputs": [
    {
     "name": "stdout",
     "output_type": "stream",
     "text": [
      "number of duplicates:  0\n"
     ]
    },
    {
     "data": {
      "text/html": [
       "<div>\n",
       "<style scoped>\n",
       "    .dataframe tbody tr th:only-of-type {\n",
       "        vertical-align: middle;\n",
       "    }\n",
       "\n",
       "    .dataframe tbody tr th {\n",
       "        vertical-align: top;\n",
       "    }\n",
       "\n",
       "    .dataframe thead th {\n",
       "        text-align: right;\n",
       "    }\n",
       "</style>\n",
       "<table border=\"1\" class=\"dataframe\">\n",
       "  <thead>\n",
       "    <tr style=\"text-align: right;\">\n",
       "      <th></th>\n",
       "      <th>row_id</th>\n",
       "      <th>order_id</th>\n",
       "      <th>order_date</th>\n",
       "      <th>ship_date</th>\n",
       "      <th>ship_mode</th>\n",
       "      <th>customer_id</th>\n",
       "      <th>customer_name</th>\n",
       "      <th>segment</th>\n",
       "      <th>city</th>\n",
       "      <th>state</th>\n",
       "      <th>...</th>\n",
       "      <th>product_id</th>\n",
       "      <th>category</th>\n",
       "      <th>sub_category</th>\n",
       "      <th>product_name</th>\n",
       "      <th>sales</th>\n",
       "      <th>quantity</th>\n",
       "      <th>discount</th>\n",
       "      <th>profit</th>\n",
       "      <th>shipping_cost</th>\n",
       "      <th>order_priority</th>\n",
       "    </tr>\n",
       "  </thead>\n",
       "  <tbody>\n",
       "  </tbody>\n",
       "</table>\n",
       "<p>0 rows × 24 columns</p>\n",
       "</div>"
      ],
      "text/plain": [
       "Empty DataFrame\n",
       "Columns: [row_id, order_id, order_date, ship_date, ship_mode, customer_id, customer_name, segment, city, state, country, postal_code, market, region, product_id, category, sub_category, product_name, sales, quantity, discount, profit, shipping_cost, order_priority]\n",
       "Index: []\n",
       "\n",
       "[0 rows x 24 columns]"
      ]
     },
     "execution_count": 18,
     "metadata": {},
     "output_type": "execute_result"
    }
   ],
   "source": [
    "# Duplicated rows\n",
    "print(\"number of duplicates: \", data.duplicated().sum())\n",
    "duplicated_rows_df = data[data.duplicated(keep=False)]\n",
    "duplicated_rows_df.sort_values(\"column_name\").head()"
   ]
  },
  {
   "cell_type": "code",
   "execution_count": null,
   "metadata": {},
   "outputs": [],
   "source": [
    "data.drop_duplicates(inplace=True)"
   ]
  },
  {
   "cell_type": "markdown",
   "metadata": {},
   "source": [
    "### Descriptive Statistics\n",
    "[&#8593;](#Agenda)\n"
   ]
  },
  {
   "cell_type": "code",
   "execution_count": 19,
   "metadata": {},
   "outputs": [],
   "source": [
    "numerical_attributes = data.select_dtypes( include=['int64', 'float64'] )\n",
    "categorical_attributes = data.select_dtypes( exclude=['int64', 'float64', 'datetime64[ns]'] )"
   ]
  },
  {
   "cell_type": "markdown",
   "metadata": {},
   "source": [
    "#### Numerical Attributes\n",
    "[&#8593;](#Agenda)\n"
   ]
  },
  {
   "cell_type": "markdown",
   "metadata": {},
   "source": [
    "        Explanation"
   ]
  },
  {
   "cell_type": "code",
   "execution_count": 31,
   "metadata": {},
   "outputs": [
    {
     "data": {
      "text/html": [
       "<style type=\"text/css\">\n",
       "#T_594f7_row0_col0, #T_594f7_row1_col0, #T_594f7_row2_col0, #T_594f7_row3_col0, #T_594f7_row4_col0 {\n",
       "  background-color: lightgrey;\n",
       "}\n",
       "#T_594f7_row1_col2 {\n",
       "  background-color: lightblue;\n",
       "}\n",
       "#T_594f7_row5_col0, #T_594f7_row5_col4 {\n",
       "  background-color: red;\n",
       "}\n",
       "</style>\n",
       "<table id=\"T_594f7_\">\n",
       "  <thead>\n",
       "    <tr>\n",
       "      <th class=\"blank level0\" >&nbsp;</th>\n",
       "      <th class=\"col_heading level0 col0\" >mean</th>\n",
       "      <th class=\"col_heading level0 col1\" >std</th>\n",
       "      <th class=\"col_heading level0 col2\" >min</th>\n",
       "      <th class=\"col_heading level0 col3\" >25%</th>\n",
       "      <th class=\"col_heading level0 col4\" >50%</th>\n",
       "      <th class=\"col_heading level0 col5\" >75%</th>\n",
       "      <th class=\"col_heading level0 col6\" >max</th>\n",
       "      <th class=\"col_heading level0 col7\" >skew</th>\n",
       "      <th class=\"col_heading level0 col8\" >kurtosis</th>\n",
       "    </tr>\n",
       "  </thead>\n",
       "  <tbody>\n",
       "    <tr>\n",
       "      <th id=\"T_594f7_level0_row0\" class=\"row_heading level0 row0\" >row_id</th>\n",
       "      <td id=\"T_594f7_row0_col0\" class=\"data row0 col0\" >25645.50</td>\n",
       "      <td id=\"T_594f7_row0_col1\" class=\"data row0 col1\" >14806.29</td>\n",
       "      <td id=\"T_594f7_row0_col2\" class=\"data row0 col2\" >1.00</td>\n",
       "      <td id=\"T_594f7_row0_col3\" class=\"data row0 col3\" >12823.25</td>\n",
       "      <td id=\"T_594f7_row0_col4\" class=\"data row0 col4\" >25645.50</td>\n",
       "      <td id=\"T_594f7_row0_col5\" class=\"data row0 col5\" >38467.75</td>\n",
       "      <td id=\"T_594f7_row0_col6\" class=\"data row0 col6\" >51290.00</td>\n",
       "      <td id=\"T_594f7_row0_col7\" class=\"data row0 col7\" >0.00</td>\n",
       "      <td id=\"T_594f7_row0_col8\" class=\"data row0 col8\" >-1.20</td>\n",
       "    </tr>\n",
       "    <tr>\n",
       "      <th id=\"T_594f7_level0_row1\" class=\"row_heading level0 row1\" >postal_code</th>\n",
       "      <td id=\"T_594f7_row1_col0\" class=\"data row1 col0\" >55190.38</td>\n",
       "      <td id=\"T_594f7_row1_col1\" class=\"data row1 col1\" >32063.69</td>\n",
       "      <td id=\"T_594f7_row1_col2\" class=\"data row1 col2\" >1040.00</td>\n",
       "      <td id=\"T_594f7_row1_col3\" class=\"data row1 col3\" >23223.00</td>\n",
       "      <td id=\"T_594f7_row1_col4\" class=\"data row1 col4\" >56430.50</td>\n",
       "      <td id=\"T_594f7_row1_col5\" class=\"data row1 col5\" >90008.00</td>\n",
       "      <td id=\"T_594f7_row1_col6\" class=\"data row1 col6\" >99301.00</td>\n",
       "      <td id=\"T_594f7_row1_col7\" class=\"data row1 col7\" >-0.13</td>\n",
       "      <td id=\"T_594f7_row1_col8\" class=\"data row1 col8\" >-1.49</td>\n",
       "    </tr>\n",
       "    <tr>\n",
       "      <th id=\"T_594f7_level0_row2\" class=\"row_heading level0 row2\" >sales</th>\n",
       "      <td id=\"T_594f7_row2_col0\" class=\"data row2 col0\" >246.49</td>\n",
       "      <td id=\"T_594f7_row2_col1\" class=\"data row2 col1\" >487.57</td>\n",
       "      <td id=\"T_594f7_row2_col2\" class=\"data row2 col2\" >0.44</td>\n",
       "      <td id=\"T_594f7_row2_col3\" class=\"data row2 col3\" >30.76</td>\n",
       "      <td id=\"T_594f7_row2_col4\" class=\"data row2 col4\" >85.05</td>\n",
       "      <td id=\"T_594f7_row2_col5\" class=\"data row2 col5\" >251.05</td>\n",
       "      <td id=\"T_594f7_row2_col6\" class=\"data row2 col6\" >22638.48</td>\n",
       "      <td id=\"T_594f7_row2_col7\" class=\"data row2 col7\" >8.14</td>\n",
       "      <td id=\"T_594f7_row2_col8\" class=\"data row2 col8\" >176.73</td>\n",
       "    </tr>\n",
       "    <tr>\n",
       "      <th id=\"T_594f7_level0_row3\" class=\"row_heading level0 row3\" >quantity</th>\n",
       "      <td id=\"T_594f7_row3_col0\" class=\"data row3 col0\" >3.48</td>\n",
       "      <td id=\"T_594f7_row3_col1\" class=\"data row3 col1\" >2.28</td>\n",
       "      <td id=\"T_594f7_row3_col2\" class=\"data row3 col2\" >1.00</td>\n",
       "      <td id=\"T_594f7_row3_col3\" class=\"data row3 col3\" >2.00</td>\n",
       "      <td id=\"T_594f7_row3_col4\" class=\"data row3 col4\" >3.00</td>\n",
       "      <td id=\"T_594f7_row3_col5\" class=\"data row3 col5\" >5.00</td>\n",
       "      <td id=\"T_594f7_row3_col6\" class=\"data row3 col6\" >14.00</td>\n",
       "      <td id=\"T_594f7_row3_col7\" class=\"data row3 col7\" >1.36</td>\n",
       "      <td id=\"T_594f7_row3_col8\" class=\"data row3 col8\" >2.28</td>\n",
       "    </tr>\n",
       "    <tr>\n",
       "      <th id=\"T_594f7_level0_row4\" class=\"row_heading level0 row4\" >discount</th>\n",
       "      <td id=\"T_594f7_row4_col0\" class=\"data row4 col0\" >0.14</td>\n",
       "      <td id=\"T_594f7_row4_col1\" class=\"data row4 col1\" >0.21</td>\n",
       "      <td id=\"T_594f7_row4_col2\" class=\"data row4 col2\" >0.00</td>\n",
       "      <td id=\"T_594f7_row4_col3\" class=\"data row4 col3\" >0.00</td>\n",
       "      <td id=\"T_594f7_row4_col4\" class=\"data row4 col4\" >0.00</td>\n",
       "      <td id=\"T_594f7_row4_col5\" class=\"data row4 col5\" >0.20</td>\n",
       "      <td id=\"T_594f7_row4_col6\" class=\"data row4 col6\" >0.85</td>\n",
       "      <td id=\"T_594f7_row4_col7\" class=\"data row4 col7\" >1.39</td>\n",
       "      <td id=\"T_594f7_row4_col8\" class=\"data row4 col8\" >0.72</td>\n",
       "    </tr>\n",
       "    <tr>\n",
       "      <th id=\"T_594f7_level0_row5\" class=\"row_heading level0 row5\" >profit</th>\n",
       "      <td id=\"T_594f7_row5_col0\" class=\"data row5 col0\" >28.61</td>\n",
       "      <td id=\"T_594f7_row5_col1\" class=\"data row5 col1\" >174.34</td>\n",
       "      <td id=\"T_594f7_row5_col2\" class=\"data row5 col2\" >-6599.98</td>\n",
       "      <td id=\"T_594f7_row5_col3\" class=\"data row5 col3\" >0.00</td>\n",
       "      <td id=\"T_594f7_row5_col4\" class=\"data row5 col4\" >9.24</td>\n",
       "      <td id=\"T_594f7_row5_col5\" class=\"data row5 col5\" >36.81</td>\n",
       "      <td id=\"T_594f7_row5_col6\" class=\"data row5 col6\" >8399.98</td>\n",
       "      <td id=\"T_594f7_row5_col7\" class=\"data row5 col7\" >4.16</td>\n",
       "      <td id=\"T_594f7_row5_col8\" class=\"data row5 col8\" >291.41</td>\n",
       "    </tr>\n",
       "    <tr>\n",
       "      <th id=\"T_594f7_level0_row6\" class=\"row_heading level0 row6\" >shipping_cost</th>\n",
       "      <td id=\"T_594f7_row6_col0\" class=\"data row6 col0\" >26.38</td>\n",
       "      <td id=\"T_594f7_row6_col1\" class=\"data row6 col1\" >57.30</td>\n",
       "      <td id=\"T_594f7_row6_col2\" class=\"data row6 col2\" >0.00</td>\n",
       "      <td id=\"T_594f7_row6_col3\" class=\"data row6 col3\" >2.61</td>\n",
       "      <td id=\"T_594f7_row6_col4\" class=\"data row6 col4\" >7.79</td>\n",
       "      <td id=\"T_594f7_row6_col5\" class=\"data row6 col5\" >24.45</td>\n",
       "      <td id=\"T_594f7_row6_col6\" class=\"data row6 col6\" >933.57</td>\n",
       "      <td id=\"T_594f7_row6_col7\" class=\"data row6 col7\" >5.86</td>\n",
       "      <td id=\"T_594f7_row6_col8\" class=\"data row6 col8\" >50.02</td>\n",
       "    </tr>\n",
       "  </tbody>\n",
       "</table>\n"
      ],
      "text/plain": [
       "<pandas.io.formats.style.Styler at 0x26c04981460>"
      ]
     },
     "execution_count": 31,
     "metadata": {},
     "output_type": "execute_result"
    }
   ],
   "source": [
    "skew = pd.DataFrame(numerical_attributes.apply(lambda x: x.skew()), columns=['skew']).T\n",
    "kurtosis = pd.DataFrame(numerical_attributes.apply(lambda x: x.kurtosis()), columns=['kurtosis']).T\n",
    "stats = pd.concat([data.describe(), skew, kurtosis]).round(2).T\n",
    "\n",
    "def style_specific_cell(x):\n",
    "    df = pd.DataFrame('', index=x.index, columns=x.columns)\n",
    "    \n",
    "    df.iloc[1, 2] = 'background-color: lightblue'\n",
    "    df.iloc[5, 0] = df.iloc[5, 4] = 'background-color: red'\n",
    "    df.iloc[0:5, 0] = 'background-color: lightgrey'   \n",
    "    \n",
    "    return df\n",
    "\n",
    "stats.drop(columns='count').style.apply(style_specific_cell, axis=None).format(\"{:.2f}\")"
   ]
  },
  {
   "cell_type": "markdown",
   "metadata": {},
   "source": [
    "#### Categorical Attributes\n",
    "[&#8593;](#Agenda)"
   ]
  },
  {
   "cell_type": "markdown",
   "metadata": {},
   "source": [
    "        Explanation"
   ]
  },
  {
   "cell_type": "code",
   "execution_count": 32,
   "metadata": {},
   "outputs": [
    {
     "data": {
      "text/plain": [
       "segment               3\n",
       "category              3\n",
       "ship_mode             4\n",
       "order_priority        4\n",
       "market                7\n",
       "region               13\n",
       "sub_category         17\n",
       "country             147\n",
       "customer_name       795\n",
       "state              1094\n",
       "ship_date          1464\n",
       "customer_id        1590\n",
       "city               3635\n",
       "product_name       3788\n",
       "product_id        10292\n",
       "order_id          25035\n",
       "dtype: int64"
      ]
     },
     "execution_count": 32,
     "metadata": {},
     "output_type": "execute_result"
    }
   ],
   "source": [
    "categorical_attributes.apply( lambda x: len(x.unique()) ).sort_values()"
   ]
  },
  {
   "cell_type": "code",
   "execution_count": 33,
   "metadata": {},
   "outputs": [
    {
     "data": {
      "text/html": [
       "<div>\n",
       "<style scoped>\n",
       "    .dataframe tbody tr th:only-of-type {\n",
       "        vertical-align: middle;\n",
       "    }\n",
       "\n",
       "    .dataframe tbody tr th {\n",
       "        vertical-align: top;\n",
       "    }\n",
       "\n",
       "    .dataframe thead th {\n",
       "        text-align: right;\n",
       "    }\n",
       "</style>\n",
       "<table border=\"1\" class=\"dataframe\">\n",
       "  <thead>\n",
       "    <tr style=\"text-align: right;\">\n",
       "      <th></th>\n",
       "      <th>segment</th>\n",
       "      <th>category</th>\n",
       "    </tr>\n",
       "  </thead>\n",
       "  <tbody>\n",
       "    <tr>\n",
       "      <th>0</th>\n",
       "      <td>Consumer</td>\n",
       "      <td>Office Supplies</td>\n",
       "    </tr>\n",
       "    <tr>\n",
       "      <th>1</th>\n",
       "      <td>Home Office</td>\n",
       "      <td>Furniture</td>\n",
       "    </tr>\n",
       "    <tr>\n",
       "      <th>2</th>\n",
       "      <td>Corporate</td>\n",
       "      <td>Technology</td>\n",
       "    </tr>\n",
       "  </tbody>\n",
       "</table>\n",
       "</div>"
      ],
      "text/plain": [
       "       segment         category\n",
       "0     Consumer  Office Supplies\n",
       "1  Home Office        Furniture\n",
       "2    Corporate       Technology"
      ]
     },
     "execution_count": 33,
     "metadata": {},
     "output_type": "execute_result"
    }
   ],
   "source": [
    "cols = ['category1', 'category2']\n",
    "get_categories(categorical_attributes[cols])"
   ]
  },
  {
   "cell_type": "code",
   "execution_count": 34,
   "metadata": {},
   "outputs": [],
   "source": [
    "numerical_columns = numerical_attributes.select_dtypes(include=['int64','float64'], exclude=['bool']).columns"
   ]
  },
  {
   "cell_type": "code",
   "execution_count": 63,
   "metadata": {
    "scrolled": false
   },
   "outputs": [
    {
     "data": {
      "image/png": "[encoded data removed]",
      "text/plain": [
       "<Figure size 9360x2880 with 2 Axes>"
      ]
     },
     "metadata": {
      "needs_background": "light"
     },
     "output_type": "display_data"
    },
    {
     "data": {
      "image/png": "[encoded data removed]",
      "text/plain": [
       "<Figure size 9360x2880 with 2 Axes>"
      ]
     },
     "metadata": {
      "needs_background": "light"
     },
     "output_type": "display_data"
    },
    {
     "data": {
      "image/png": "[encoded data removed]",
      "text/plain": [
       "<Figure size 9360x2880 with 2 Axes>"
      ]
     },
     "metadata": {
      "needs_background": "light"
     },
     "output_type": "display_data"
    },
    {
     "data": {
      "image/png": "[encoded data removed]",
      "text/plain": [
       "<Figure size 9360x2880 with 2 Axes>"
      ]
     },
     "metadata": {
      "needs_background": "light"
     },
     "output_type": "display_data"
    },
    {
     "data": {
      "image/png": "[encoded data removed]",
      "text/plain": [
       "<Figure size 9360x2880 with 2 Axes>"
      ]
     },
     "metadata": {
      "needs_background": "light"
     },
     "output_type": "display_data"
    },
    {
     "data": {
      "image/png": "[encoded data removed]",
      "text/plain": [
       "<Figure size 9360x2880 with 2 Axes>"
      ]
     },
     "metadata": {
      "needs_background": "light"
     },
     "output_type": "display_data"
    },
    {
     "data": {
      "image/png": "[encoded data removed]",
      "text/plain": [
       "<Figure size 9360x2880 with 2 Axes>"
      ]
     },
     "metadata": {
      "needs_background": "light"
     },
     "output_type": "display_data"
    }
   ],
   "source": [
    "rows = len(numerical_columns); columns = categorical_attributes.shape[1]; plot = 0\n",
    "\n",
    "for n_attribute in numerical_columns:\n",
    "    fig(130, 40)\n",
    "    plot += 1\n",
    "    plt.subplot( rows, columns, plot )\n",
    "    sns.boxplot( x='category', y = n_attribute, data=data )\n",
    "    plot += 1\n",
    "    plt.subplot( rows, columns, plot )\n",
    "    sns.boxplot( x='category', y = n_attribute, data=data )\n",
    "    \n",
    "    plt.show()"
   ]
  },
  {
   "cell_type": "markdown",
   "metadata": {},
   "source": [
    "## Feature Engineering\n",
    "[&#8593;](#Agenda)"
   ]
  },
  {
   "cell_type": "code",
   "execution_count": 64,
   "metadata": {},
   "outputs": [],
   "source": [
    "df = data.copy()"
   ]
  },
  {
   "cell_type": "markdown",
   "metadata": {},
   "source": [
    "#### new_column_name_1\n",
    "[&#8593;](#Agenda)"
   ]
  },
  {
   "cell_type": "code",
   "execution_count": null,
   "metadata": {},
   "outputs": [],
   "source": [
    "df['new_column'] = ''' data_frame['column'] + - * / condition column to create new column'''"
   ]
  },
  {
   "cell_type": "markdown",
   "metadata": {},
   "source": [
    "#### new_column_name_2\n",
    "[&#8593;](#Agenda)"
   ]
  },
  {
   "cell_type": "code",
   "execution_count": null,
   "metadata": {},
   "outputs": [],
   "source": []
  },
  {
   "cell_type": "markdown",
   "metadata": {},
   "source": [
    "## Filters\n",
    "[&#8593;](#Agenda)"
   ]
  },
  {
   "cell_type": "markdown",
   "metadata": {},
   "source": [
    "### Column Selection\n",
    "[&#8593;](#Agenda)"
   ]
  },
  {
   "cell_type": "code",
   "execution_count": null,
   "metadata": {},
   "outputs": [],
   "source": [
    "to_drop = ['column_name','column_name','column_name','column_name']\n",
    "df.drop(columns=to_drop, inplace=True)"
   ]
  },
  {
   "cell_type": "markdown",
   "metadata": {},
   "source": [
    "### Row Selection\n",
    "[&#8593;](#Agenda)"
   ]
  },
  {
   "cell_type": "code",
   "execution_count": null,
   "metadata": {},
   "outputs": [],
   "source": [
    "df = df[(df['column_name'] CONDITION) ]\n",
    "\n",
    "#df.query(\"\")"
   ]
  },
  {
   "cell_type": "markdown",
   "metadata": {},
   "source": [
    "## Business Answers\n",
    "[&#8593;](#Agenda)"
   ]
  },
  {
   "cell_type": "code",
   "execution_count": null,
   "metadata": {},
   "outputs": [],
   "source": []
  },
  {
   "cell_type": "markdown",
   "metadata": {},
   "source": [
    "## Exploratory Data Analysis\n",
    "[&#8593;](#Agenda)"
   ]
  },
  {
   "cell_type": "code",
   "execution_count": 65,
   "metadata": {},
   "outputs": [
    {
     "name": "stdout",
     "output_type": "stream",
     "text": [
      "Shape: (51290, 24)\n",
      "Duplicates: False\n"
     ]
    },
    {
     "data": {
      "text/html": [
       "<div>\n",
       "<style scoped>\n",
       "    .dataframe tbody tr th:only-of-type {\n",
       "        vertical-align: middle;\n",
       "    }\n",
       "\n",
       "    .dataframe tbody tr th {\n",
       "        vertical-align: top;\n",
       "    }\n",
       "\n",
       "    .dataframe thead th {\n",
       "        text-align: right;\n",
       "    }\n",
       "</style>\n",
       "<table border=\"1\" class=\"dataframe\">\n",
       "  <thead>\n",
       "    <tr style=\"text-align: right;\">\n",
       "      <th></th>\n",
       "      <th>data_types</th>\n",
       "      <th>nan_count</th>\n",
       "      <th>nan_percentage</th>\n",
       "    </tr>\n",
       "  </thead>\n",
       "  <tbody>\n",
       "    <tr>\n",
       "      <th>row_id</th>\n",
       "      <td>int64</td>\n",
       "      <td>0</td>\n",
       "      <td>0.00000</td>\n",
       "    </tr>\n",
       "    <tr>\n",
       "      <th>order_id</th>\n",
       "      <td>object</td>\n",
       "      <td>0</td>\n",
       "      <td>0.00000</td>\n",
       "    </tr>\n",
       "    <tr>\n",
       "      <th>order_date</th>\n",
       "      <td>datetime64[ns]</td>\n",
       "      <td>0</td>\n",
       "      <td>0.00000</td>\n",
       "    </tr>\n",
       "    <tr>\n",
       "      <th>ship_date</th>\n",
       "      <td>object</td>\n",
       "      <td>0</td>\n",
       "      <td>0.00000</td>\n",
       "    </tr>\n",
       "    <tr>\n",
       "      <th>ship_mode</th>\n",
       "      <td>object</td>\n",
       "      <td>0</td>\n",
       "      <td>0.00000</td>\n",
       "    </tr>\n",
       "    <tr>\n",
       "      <th>customer_id</th>\n",
       "      <td>object</td>\n",
       "      <td>0</td>\n",
       "      <td>0.00000</td>\n",
       "    </tr>\n",
       "    <tr>\n",
       "      <th>customer_name</th>\n",
       "      <td>object</td>\n",
       "      <td>0</td>\n",
       "      <td>0.00000</td>\n",
       "    </tr>\n",
       "    <tr>\n",
       "      <th>segment</th>\n",
       "      <td>object</td>\n",
       "      <td>0</td>\n",
       "      <td>0.00000</td>\n",
       "    </tr>\n",
       "    <tr>\n",
       "      <th>city</th>\n",
       "      <td>object</td>\n",
       "      <td>0</td>\n",
       "      <td>0.00000</td>\n",
       "    </tr>\n",
       "    <tr>\n",
       "      <th>state</th>\n",
       "      <td>object</td>\n",
       "      <td>0</td>\n",
       "      <td>0.00000</td>\n",
       "    </tr>\n",
       "    <tr>\n",
       "      <th>country</th>\n",
       "      <td>object</td>\n",
       "      <td>0</td>\n",
       "      <td>0.00000</td>\n",
       "    </tr>\n",
       "    <tr>\n",
       "      <th>postal_code</th>\n",
       "      <td>float64</td>\n",
       "      <td>41296</td>\n",
       "      <td>80.51472</td>\n",
       "    </tr>\n",
       "    <tr>\n",
       "      <th>market</th>\n",
       "      <td>object</td>\n",
       "      <td>0</td>\n",
       "      <td>0.00000</td>\n",
       "    </tr>\n",
       "    <tr>\n",
       "      <th>region</th>\n",
       "      <td>object</td>\n",
       "      <td>0</td>\n",
       "      <td>0.00000</td>\n",
       "    </tr>\n",
       "    <tr>\n",
       "      <th>product_id</th>\n",
       "      <td>object</td>\n",
       "      <td>0</td>\n",
       "      <td>0.00000</td>\n",
       "    </tr>\n",
       "    <tr>\n",
       "      <th>category</th>\n",
       "      <td>object</td>\n",
       "      <td>0</td>\n",
       "      <td>0.00000</td>\n",
       "    </tr>\n",
       "    <tr>\n",
       "      <th>sub_category</th>\n",
       "      <td>object</td>\n",
       "      <td>0</td>\n",
       "      <td>0.00000</td>\n",
       "    </tr>\n",
       "    <tr>\n",
       "      <th>product_name</th>\n",
       "      <td>object</td>\n",
       "      <td>0</td>\n",
       "      <td>0.00000</td>\n",
       "    </tr>\n",
       "    <tr>\n",
       "      <th>sales</th>\n",
       "      <td>float64</td>\n",
       "      <td>0</td>\n",
       "      <td>0.00000</td>\n",
       "    </tr>\n",
       "    <tr>\n",
       "      <th>quantity</th>\n",
       "      <td>int64</td>\n",
       "      <td>0</td>\n",
       "      <td>0.00000</td>\n",
       "    </tr>\n",
       "    <tr>\n",
       "      <th>discount</th>\n",
       "      <td>float64</td>\n",
       "      <td>0</td>\n",
       "      <td>0.00000</td>\n",
       "    </tr>\n",
       "    <tr>\n",
       "      <th>profit</th>\n",
       "      <td>float64</td>\n",
       "      <td>0</td>\n",
       "      <td>0.00000</td>\n",
       "    </tr>\n",
       "    <tr>\n",
       "      <th>shipping_cost</th>\n",
       "      <td>float64</td>\n",
       "      <td>0</td>\n",
       "      <td>0.00000</td>\n",
       "    </tr>\n",
       "    <tr>\n",
       "      <th>order_priority</th>\n",
       "      <td>object</td>\n",
       "      <td>0</td>\n",
       "      <td>0.00000</td>\n",
       "    </tr>\n",
       "  </tbody>\n",
       "</table>\n",
       "</div>"
      ],
      "text/plain": [
       "                    data_types  nan_count  nan_percentage\n",
       "row_id                   int64          0         0.00000\n",
       "order_id                object          0         0.00000\n",
       "order_date      datetime64[ns]          0         0.00000\n",
       "ship_date               object          0         0.00000\n",
       "ship_mode               object          0         0.00000\n",
       "customer_id             object          0         0.00000\n",
       "customer_name           object          0         0.00000\n",
       "segment                 object          0         0.00000\n",
       "city                    object          0         0.00000\n",
       "state                   object          0         0.00000\n",
       "country                 object          0         0.00000\n",
       "postal_code            float64      41296        80.51472\n",
       "market                  object          0         0.00000\n",
       "region                  object          0         0.00000\n",
       "product_id              object          0         0.00000\n",
       "category                object          0         0.00000\n",
       "sub_category            object          0         0.00000\n",
       "product_name            object          0         0.00000\n",
       "sales                  float64          0         0.00000\n",
       "quantity                 int64          0         0.00000\n",
       "discount               float64          0         0.00000\n",
       "profit                 float64          0         0.00000\n",
       "shipping_cost          float64          0         0.00000\n",
       "order_priority          object          0         0.00000"
      ]
     },
     "execution_count": 65,
     "metadata": {},
     "output_type": "execute_result"
    }
   ],
   "source": [
    "temporary_desc = describe_data(df)\n",
    "temporary_desc"
   ]
  },
  {
   "cell_type": "code",
   "execution_count": 66,
   "metadata": {},
   "outputs": [
    {
     "data": {
      "text/plain": [
       "array([dtype('int64'), dtype('O'), dtype('<M8[ns]'), dtype('float64')],\n",
       "      dtype=object)"
      ]
     },
     "execution_count": 66,
     "metadata": {},
     "output_type": "execute_result"
    }
   ],
   "source": [
    "temporary_desc['data_types'].unique()"
   ]
  },
  {
   "cell_type": "code",
   "execution_count": 68,
   "metadata": {},
   "outputs": [],
   "source": [
    "numerical_attributes = df.select_dtypes( include=['int64', 'float64'] )\n",
    "categorical_attributes = df.select_dtypes( exclude=['int64', 'float64', 'datetime64[ns]'] )"
   ]
  },
  {
   "cell_type": "markdown",
   "metadata": {},
   "source": [
    "### Univariate Analysis\n",
    "[&#8593;](#Agenda)\n",
    "\n",
    "#### Response Variable"
   ]
  },
  {
   "cell_type": "markdown",
   "metadata": {},
   "source": [
    "> For Regression: "
   ]
  },
  {
   "cell_type": "code",
   "execution_count": 81,
   "metadata": {},
   "outputs": [
    {
     "data": {
      "image/png": "[encoded data removed]",
      "text/plain": [
       "<Figure size 360x360 with 1 Axes>"
      ]
     },
     "metadata": {
      "needs_background": "light"
     },
     "output_type": "display_data"
    }
   ],
   "source": [
    "sns.displot(df['y_column']);"
   ]
  },
  {
   "cell_type": "code",
   "execution_count": 82,
   "metadata": {},
   "outputs": [
    {
     "data": {
      "text/plain": [
       "mean      127.17963\n",
       "median     68.61000\n",
       "Name: y_column, dtype: float64"
      ]
     },
     "execution_count": 82,
     "metadata": {},
     "output_type": "execute_result"
    }
   ],
   "source": [
    "aux = df.loc[df['y_column'] <= df['y_column'].quantile(.90), 'y_column']\n",
    "aux.agg(['mean', 'median'])"
   ]
  },
  {
   "cell_type": "code",
   "execution_count": 83,
   "metadata": {},
   "outputs": [
    {
     "data": {
      "image/png": "[encoded data removed]",
      "text/plain": [
       "<Figure size 360x360 with 1 Axes>"
      ]
     },
     "metadata": {
      "needs_background": "light"
     },
     "output_type": "display_data"
    }
   ],
   "source": [
    "sns.displot(aux); # 90th quantile"
   ]
  },
  {
   "cell_type": "code",
   "execution_count": 84,
   "metadata": {},
   "outputs": [
    {
     "data": {
      "image/png": "[encoded data removed]",
      "text/plain": [
       "<Figure size 360x360 with 1 Axes>"
      ]
     },
     "metadata": {
      "needs_background": "light"
     },
     "output_type": "display_data"
    }
   ],
   "source": [
    "# Normalization (search about it)\n",
    "sns.displot( np.log1p(df['y_column']) );"
   ]
  },
  {
   "cell_type": "markdown",
   "metadata": {},
   "source": [
    "> For classification:"
   ]
  },
  {
   "cell_type": "code",
   "execution_count": 85,
   "metadata": {},
   "outputs": [
    {
     "data": {
      "image/png": "[encoded data removed]",
      "text/plain": [
       "<Figure size 432x288 with 1 Axes>"
      ]
     },
     "metadata": {
      "needs_background": "light"
     },
     "output_type": "display_data"
    }
   ],
   "source": [
    "sns.countplot(data=df, x='y_column', palette='Blues');"
   ]
  },
  {
   "cell_type": "markdown",
   "metadata": {},
   "source": [
    "#### Numerical Variables\n",
    "[&#8593;](#Agenda)\n",
    "\n",
    "    Explain them here. What do you see. What do they tell you..."
   ]
  },
  {
   "cell_type": "code",
   "execution_count": 96,
   "metadata": {
    "scrolled": true
   },
   "outputs": [
    {
     "data": {
      "text/html": [
       "<div>\n",
       "<style scoped>\n",
       "    .dataframe tbody tr th:only-of-type {\n",
       "        vertical-align: middle;\n",
       "    }\n",
       "\n",
       "    .dataframe tbody tr th {\n",
       "        vertical-align: top;\n",
       "    }\n",
       "\n",
       "    .dataframe thead th {\n",
       "        text-align: right;\n",
       "    }\n",
       "</style>\n",
       "<table border=\"1\" class=\"dataframe\">\n",
       "  <thead>\n",
       "    <tr style=\"text-align: right;\">\n",
       "      <th></th>\n",
       "      <th>correlation</th>\n",
       "    </tr>\n",
       "  </thead>\n",
       "  <tbody>\n",
       "    <tr>\n",
       "      <th>discount</th>\n",
       "      <td>-0.086722</td>\n",
       "    </tr>\n",
       "    <tr>\n",
       "      <th>row_id</th>\n",
       "      <td>-0.043889</td>\n",
       "    </tr>\n",
       "    <tr>\n",
       "      <th>postal_code</th>\n",
       "      <td>-0.023854</td>\n",
       "    </tr>\n",
       "    <tr>\n",
       "      <th>quantity</th>\n",
       "      <td>0.313577</td>\n",
       "    </tr>\n",
       "    <tr>\n",
       "      <th>profit</th>\n",
       "      <td>0.484918</td>\n",
       "    </tr>\n",
       "    <tr>\n",
       "      <th>shipping_cost</th>\n",
       "      <td>0.768073</td>\n",
       "    </tr>\n",
       "    <tr>\n",
       "      <th>sales</th>\n",
       "      <td>1.000000</td>\n",
       "    </tr>\n",
       "  </tbody>\n",
       "</table>\n",
       "</div>"
      ],
      "text/plain": [
       "               correlation\n",
       "discount         -0.086722\n",
       "row_id           -0.043889\n",
       "postal_code      -0.023854\n",
       "quantity          0.313577\n",
       "profit            0.484918\n",
       "shipping_cost     0.768073\n",
       "sales             1.000000"
      ]
     },
     "execution_count": 96,
     "metadata": {},
     "output_type": "execute_result"
    }
   ],
   "source": [
    "correlations = pd.DataFrame(index=['correlation'])\n",
    "for col in numerical_attributes.columns:\n",
    "    correlations[col] = [numerical_attributes['y_column'].corr(numerical_attributes[col])]\n",
    "\n",
    "correlations.T.sort_values('correlation')"
   ]
  },
  {
   "cell_type": "code",
   "execution_count": 97,
   "metadata": {},
   "outputs": [
    {
     "data": {
      "text/html": [
       "<div>\n",
       "<style scoped>\n",
       "    .dataframe tbody tr th:only-of-type {\n",
       "        vertical-align: middle;\n",
       "    }\n",
       "\n",
       "    .dataframe tbody tr th {\n",
       "        vertical-align: top;\n",
       "    }\n",
       "\n",
       "    .dataframe thead th {\n",
       "        text-align: right;\n",
       "    }\n",
       "</style>\n",
       "<table border=\"1\" class=\"dataframe\">\n",
       "  <thead>\n",
       "    <tr style=\"text-align: right;\">\n",
       "      <th></th>\n",
       "      <th>correlation</th>\n",
       "    </tr>\n",
       "  </thead>\n",
       "  <tbody>\n",
       "    <tr>\n",
       "      <th>postal_code</th>\n",
       "      <td>0.023854</td>\n",
       "    </tr>\n",
       "    <tr>\n",
       "      <th>row_id</th>\n",
       "      <td>0.043889</td>\n",
       "    </tr>\n",
       "    <tr>\n",
       "      <th>discount</th>\n",
       "      <td>0.086722</td>\n",
       "    </tr>\n",
       "    <tr>\n",
       "      <th>quantity</th>\n",
       "      <td>0.313577</td>\n",
       "    </tr>\n",
       "    <tr>\n",
       "      <th>profit</th>\n",
       "      <td>0.484918</td>\n",
       "    </tr>\n",
       "    <tr>\n",
       "      <th>shipping_cost</th>\n",
       "      <td>0.768073</td>\n",
       "    </tr>\n",
       "    <tr>\n",
       "      <th>sales</th>\n",
       "      <td>1.000000</td>\n",
       "    </tr>\n",
       "  </tbody>\n",
       "</table>\n",
       "</div>"
      ],
      "text/plain": [
       "               correlation\n",
       "postal_code       0.023854\n",
       "row_id            0.043889\n",
       "discount          0.086722\n",
       "quantity          0.313577\n",
       "profit            0.484918\n",
       "shipping_cost     0.768073\n",
       "sales             1.000000"
      ]
     },
     "execution_count": 97,
     "metadata": {},
     "output_type": "execute_result"
    }
   ],
   "source": [
    "correlations.T.abs().sort_values('correlation')"
   ]
  },
  {
   "cell_type": "code",
   "execution_count": 101,
   "metadata": {},
   "outputs": [
    {
     "data": {
      "image/png": "[encoded data removed]",
      "text/plain": [
       "<Figure size 1080x1080 with 9 Axes>"
      ]
     },
     "metadata": {
      "needs_background": "light"
     },
     "output_type": "display_data"
    }
   ],
   "source": [
    "rows = int(np.ceil( numerical_attributes.shape[1]/3 ))\n",
    "numerical_attributes.hist(figsize=(15,15), layout=(rows, 3));"
   ]
  },
  {
   "cell_type": "markdown",
   "metadata": {},
   "source": [
    "**Removing Outliers**"
   ]
  },
  {
   "cell_type": "code",
   "execution_count": 104,
   "metadata": {},
   "outputs": [],
   "source": [
    "no_outlier = numerical_attributes[(np.abs(stats.zscore(numerical_attributes, nan_policy='omit')) < .7).all(axis=1)]\n",
    "no_outlier = no_outlier[['columns', 'to', 'analyze']]"
   ]
  },
  {
   "cell_type": "code",
   "execution_count": 106,
   "metadata": {},
   "outputs": [],
   "source": [
    "no_outlier = df[df <= df.quantile(.90)].dropna()"
   ]
  },
  {
   "cell_type": "code",
   "execution_count": 111,
   "metadata": {},
   "outputs": [
    {
     "data": {
      "image/png": "[encoded data removed]",
      "text/plain": [
       "<Figure size 1080x360 with 3 Axes>"
      ]
     },
     "metadata": {
      "needs_background": "light"
     },
     "output_type": "display_data"
    }
   ],
   "source": [
    "rows = int(np.ceil( no_outlier.shape[1]/3 ))\n",
    "no_outlier.hist(figsize=(15, 5), layout=(rows, 3));"
   ]
  },
  {
   "cell_type": "markdown",
   "metadata": {},
   "source": [
    "#### Categorical Variables\n",
    "[&#8593;](#Agenda)\n",
    "\n",
    "    sns.countplot() and sns.kdeplot()\n",
    "    \n",
    "    column_name according to categorical columns."
   ]
  },
  {
   "cell_type": "code",
   "execution_count": 122,
   "metadata": {},
   "outputs": [
    {
     "data": {
      "text/html": [
       "<div>\n",
       "<style scoped>\n",
       "    .dataframe tbody tr th:only-of-type {\n",
       "        vertical-align: middle;\n",
       "    }\n",
       "\n",
       "    .dataframe tbody tr th {\n",
       "        vertical-align: top;\n",
       "    }\n",
       "\n",
       "    .dataframe thead th {\n",
       "        text-align: right;\n",
       "    }\n",
       "</style>\n",
       "<table border=\"1\" class=\"dataframe\">\n",
       "  <thead>\n",
       "    <tr style=\"text-align: right;\">\n",
       "      <th></th>\n",
       "      <th>segment</th>\n",
       "      <th>ship_mode</th>\n",
       "      <th>order_priority</th>\n",
       "    </tr>\n",
       "  </thead>\n",
       "  <tbody>\n",
       "    <tr>\n",
       "      <th>0</th>\n",
       "      <td>Consumer</td>\n",
       "      <td>Standard Class</td>\n",
       "      <td>Medium</td>\n",
       "    </tr>\n",
       "    <tr>\n",
       "      <th>1</th>\n",
       "      <td>Home Office</td>\n",
       "      <td>Second Class</td>\n",
       "      <td>High</td>\n",
       "    </tr>\n",
       "    <tr>\n",
       "      <th>2</th>\n",
       "      <td>Corporate</td>\n",
       "      <td>First Class</td>\n",
       "      <td>Critical</td>\n",
       "    </tr>\n",
       "    <tr>\n",
       "      <th>3</th>\n",
       "      <td></td>\n",
       "      <td>Same Day</td>\n",
       "      <td>Low</td>\n",
       "    </tr>\n",
       "  </tbody>\n",
       "</table>\n",
       "</div>"
      ],
      "text/plain": [
       "       segment       ship_mode order_priority\n",
       "0     Consumer  Standard Class         Medium\n",
       "1  Home Office    Second Class           High\n",
       "2    Corporate     First Class       Critical\n",
       "3                     Same Day            Low"
      ]
     },
     "execution_count": 122,
     "metadata": {},
     "output_type": "execute_result"
    }
   ],
   "source": [
    "get_categories(categorical_attributes[['segment', 'ship_mode', 'order_priority']])"
   ]
  },
  {
   "cell_type": "code",
   "execution_count": 128,
   "metadata": {},
   "outputs": [
    {
     "data": {
      "image/png": "[encoded data removed]",
      "text/plain": [
       "<Figure size 1080x360 with 4 Axes>"
      ]
     },
     "metadata": {
      "needs_background": "light"
     },
     "output_type": "display_data"
    }
   ],
   "source": [
    "# For Regression Problems (continuous response_variable - y)\n",
    "column = ['segment', 'is_profit']\n",
    "classes1 = ['Consumer', 'Home Office', 'Corporate']\n",
    "classes2 = [0, 1]\n",
    "y_variable = 'y_column'\n",
    "\n",
    "fig()\n",
    "# categorical attribute 1\n",
    "plt.subplot( 2, 2, 1 )\n",
    "sns.countplot(x=df[column[0]])\n",
    "\n",
    "plt.subplot( 2, 2, 2 )\n",
    "sns.kdeplot(df[df[column[0]] == classes1[0]][y_variable], label=classes1[0], shade=True)\n",
    "sns.kdeplot(df[df[column[0]] == classes1[1]][y_variable], label=classes1[1], shade=True)\n",
    "sns.kdeplot(df[df[column[0]] == classes1[2]][y_variable], label=classes1[2], shade=True)\n",
    "plt.legend()\n",
    "\n",
    "# categorical attribute 2\n",
    "plt.subplot(2, 2, 3 )\n",
    "sns.countplot(x=df[column[1]])\n",
    "\n",
    "plt.subplot( 2, 2, 4 )\n",
    "sns.kdeplot(df[df[column[1]] == classes2[0]][y_variable], label=classes2[0], shade=True)\n",
    "sns.kdeplot(df[df[column[1]] == classes2[1]][y_variable], label=classes2[1], shade=True)\n",
    "plt.tight_layout()"
   ]
  },
  {
   "cell_type": "code",
   "execution_count": 133,
   "metadata": {},
   "outputs": [
    {
     "data": {
      "image/png": "[encoded data removed]",
      "text/plain": [
       "<Figure size 1080x576 with 4 Axes>"
      ]
     },
     "metadata": {
      "needs_background": "light"
     },
     "output_type": "display_data"
    }
   ],
   "source": [
    "# For Cassification Problems \n",
    "category = ['segment', 'category']\n",
    "y_variable = 'is_profit'\n",
    "\n",
    "fig(15, 8)\n",
    "\n",
    "# categorical attribute 1\n",
    "plt.subplot( 2, 2, 1 )\n",
    "sns.countplot(x=df[category[0]])\n",
    "\n",
    "plt.subplot( 2, 2, 2 )\n",
    "sns.countplot(x=y_variable, hue=category[0], data=df)\n",
    "\n",
    "# categorical attribute 2\n",
    "plt.subplot( 2, 2, 3 )\n",
    "sns.countplot(x=df[category[1]])\n",
    "\n",
    "plt.subplot( 2, 2, 4 )\n",
    "sns.countplot(x=y_variable, hue=category[1], data=df)\n",
    "plt.tight_layout()"
   ]
  },
  {
   "cell_type": "markdown",
   "metadata": {},
   "source": [
    "### Bivariate Analysis\n",
    "[&#8593;](#Agenda)\n",
    "\n",
    "    Your Pandas knowledge will help you while validating the hypotheses, \n",
    "    since you have to manipulate the data (groupy, join, cut...) to create\n",
    "    insights (graphs are welcome).\n",
    "    \n",
    "    New questions (hypotheses) are going to pop up in your mind, make sure\n",
    "    to look for answers and try to listen to the story the data tells you."
   ]
  },
  {
   "cell_type": "markdown",
   "metadata": {},
   "source": [
    "#### _1. hypothesis._\n",
    "                \n",
    "> **Most valuable part of the answer**\n",
    ">\n",
    "> More information <br>\n",
    "> or maybe a thought <br>\n",
    "> (if needed).\n",
    "\n",
    "**_Financial question... How does this affects the company, in terms of revenue?_**\n",
    "\n",
    "        Maybe some explanation.\n",
    "\n",
    "> **Most valuable part of the answer**\n",
    ">\n",
    "> More information <br>\n",
    "> or maybe a thought <br>\n",
    "> (if needed)."
   ]
  },
  {
   "cell_type": "code",
   "execution_count": 135,
   "metadata": {},
   "outputs": [
    {
     "data": {
      "image/png": "[encoded data removed]",
      "text/plain": [
       "<Figure size 432x288 with 2 Axes>"
      ]
     },
     "metadata": {
      "needs_background": "light"
     },
     "output_type": "display_data"
    }
   ],
   "source": [
    "columns_used = ['column1', 'column2']\n",
    "sns.heatmap( df[columns_used].corr( method='pearson' ), annot=True );"
   ]
  },
  {
   "cell_type": "code",
   "execution_count": 136,
   "metadata": {},
   "outputs": [
    {
     "data": {
      "text/plain": [
       "0.48491811261944706"
      ]
     },
     "execution_count": 136,
     "metadata": {},
     "output_type": "execute_result"
    }
   ],
   "source": [
    "correlation(df[columns_used])"
   ]
  },
  {
   "cell_type": "markdown",
   "metadata": {},
   "source": [
    "### Multivariate Analysis\n",
    "[&#8593;](#Agenda)\n"
   ]
  },
  {
   "cell_type": "code",
   "execution_count": 137,
   "metadata": {},
   "outputs": [],
   "source": [
    "numerical_attributes = df.select_dtypes( include=['int64', 'float64'] )\n",
    "categorical_attributes = df.select_dtypes( exclude=['int64', 'float64', 'datetime64[ns]'] )"
   ]
  },
  {
   "cell_type": "markdown",
   "metadata": {},
   "source": [
    "#### Numerical\n",
    "[&#8593;](#Agenda)\n"
   ]
  },
  {
   "cell_type": "code",
   "execution_count": 139,
   "metadata": {},
   "outputs": [
    {
     "data": {
      "image/png": "[encoded data removed]",
      "text/plain": [
       "<Figure size 1728x864 with 2 Axes>"
      ]
     },
     "metadata": {
      "needs_background": "light"
     },
     "output_type": "display_data"
    }
   ],
   "source": [
    "plt.figure(figsize=(24, 12))\n",
    "correlations = numerical_attributes.corr().round(2)\n",
    "mask = np.triu(np.ones_like(correlations, dtype=bool))\n",
    "sns.heatmap(correlations, mask=mask, linewidths=1, annot=True, cmap=['#F2F2F0','#1F375D'], vmin=0.40) # vmax=-0.40\n",
    "plt.show()"
   ]
  },
  {
   "cell_type": "code",
   "execution_count": 146,
   "metadata": {},
   "outputs": [
    {
     "data": {
      "image/png": "[encoded data removed]",
      "text/plain": [
       "<Figure size 1080x360 with 2 Axes>"
      ]
     },
     "metadata": {
      "needs_background": "light"
     },
     "output_type": "display_data"
    }
   ],
   "source": [
    "fig()\n",
    "sns.heatmap(numerical_attributes.corr().round(3), annot=True )\n",
    "plt.show()"
   ]
  },
  {
   "cell_type": "markdown",
   "metadata": {},
   "source": [
    "#### Categorical\n",
    "[&#8593;](#Agenda)\n",
    "\n",
    "[Cramer's v](https://en.wikipedia.org/wiki/Cram%C3%A9r%27s_V)"
   ]
  },
  {
   "cell_type": "code",
   "execution_count": 151,
   "metadata": {},
   "outputs": [
    {
     "data": {
      "image/png": "[encoded data removed]",
      "text/plain": [
       "<Figure size 1080x360 with 2 Axes>"
      ]
     },
     "metadata": {
      "needs_background": "light"
     },
     "output_type": "display_data"
    }
   ],
   "source": [
    "categorical_corr = get_categorical_corr(categorical_attributes[['ship_mode', 'segment', 'order_priority']])\n",
    "fig()\n",
    "sns.heatmap( categorical_corr, annot=True )\n",
    "plt.show()"
   ]
  },
  {
   "cell_type": "markdown",
   "metadata": {},
   "source": [
    "_**If you made it here, you already have insights that will help your business being successful. From here, you can go even further and start working on the machine learning to create a predictive solution (if needed).**_"
   ]
  },
  {
   "cell_type": "markdown",
   "metadata": {},
   "source": [
    "## Dificulties and Solutions\n",
    "[&#8593;](#Agenda)"
   ]
  },
  {
   "cell_type": "markdown",
   "metadata": {},
   "source": [
    "## Next Steps\n",
    "[&#8593;](#Agenda)"
   ]
  },
  {
   "cell_type": "markdown",
   "metadata": {},
   "source": [
    "        [&#8593;](#Agenda)\n",
    "\n",
    "\n",
    "        ## Agenda\n",
    "\n",
    "        [Business Understanding](#Business-Understanding)<br> \n",
    "        &emsp;[Business Questions](#Business-Questions)<br>\n",
    "        &emsp;[Hypothesis](#Hypothesis)<br>\n",
    "\n",
    "        [Imports](#Imports)<br>\n",
    "        &emsp;[Helper Functions and Classes](#Helper-Functions-and-Classes)<br>\n",
    "        &emsp;&emsp;[Analysis](#Analysis)<br>\n",
    "        &emsp;&emsp;[Graph](#Graph)<br>\n",
    "        &emsp;&emsp;[Directory](#Directory)<br>\n",
    "        &emsp;&emsp;[Database](#Database)<br>\n",
    "\n",
    "        [Settings](#Settings)<br>\n",
    "\n",
    "        [Loading Data](#Loading-Data)<br>\n",
    "\n",
    "        [Describing Data](#Describing-Data)<br>\n",
    "        &emsp;[Renaming Columns](#Renaming-Columns)<br>\n",
    "        &emsp;[Dealing with Missing Values](#Dealing-with-Missing-Values)<br>\n",
    "        &emsp;[Remap values](#Remap-values)<br>\n",
    "        &emsp;[Change Data Types](#Change-Data-Types)<br>\n",
    "        &emsp;[Duplicates](#Duplicates)<br>\n",
    "        &emsp;[Descriptive Statistics](#Descriptive-Statistics)<br>\n",
    "        &emsp;&emsp;[Numerical Attributes](#Numerical-Attributes)<br>\n",
    "        &emsp;&emsp;[Categorical Attributes](#Categorical-Attributes)<br>\n",
    "\n",
    "        [Feature Engineering](#Feature-Engineering)<br>\n",
    "        &emsp;[new_column_name_1](#new_column_name_1)<br>\n",
    "        &emsp;[new_column_name_2](#new_column_name_2)<br>\n",
    "\n",
    "        [Filters](#Filters)<br>\n",
    "        &emsp;[Column Selection](#Column-Selection)<br>\n",
    "        &emsp;[Row Selection](#Row-Selection)<br>\n",
    "\n",
    "        [Business Answers](#Business-Answers)<br>\n",
    "\n",
    "        [Exploratory Data Analysis](#Exploratory-Data-Analysis)<br>\n",
    "        &emsp;[Univariate Analysis](#Univariate-Analysis)<br>\n",
    "        &emsp;&emsp;[Response Variable](#Response-Variable)<br>\n",
    "        &emsp;&emsp;[Numerical Variables](#Numerical-Variables)<br>\n",
    "        &emsp;&emsp;[Categorical Variables](#Categorical-Variables)<br>\n",
    "        &emsp;[Bivariate Analysis](#Bivariate-Analysis)<br>\n",
    "        &emsp;[Multivariate Analysis](#Multivariate-Analysis)<br>\n",
    "        &emsp;&emsp;[Numerical](#Numerical)<br>\n",
    "        &emsp;&emsp;[Categorical](#Categorical)<br>\n",
    "\n",
    "        [Dificulties and Solutions](#Dificulties-and-Solutions)<br>\n",
    "\n",
    "        [Next Steps](#Next-Steps)<br>"
   ]
  }
 ],
 "metadata": {
  "kernelspec": {
   "display_name": "Python 3 (ipykernel)",
   "language": "python",
   "name": "python3"
  },
  "language_info": {
   "codemirror_mode": {
    "name": "ipython",
    "version": 3
   },
   "file_extension": ".py",
   "mimetype": "text/x-python",
   "name": "python",
   "nbconvert_exporter": "python",
   "pygments_lexer": "ipython3",
   "version": "3.9.7"
  }
 },
 "nbformat": 4,
 "nbformat_minor": 4
}
